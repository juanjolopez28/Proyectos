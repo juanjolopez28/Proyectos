{
 "cells": [
  {
   "cell_type": "code",
   "execution_count": 4,
   "metadata": {},
   "outputs": [],
   "source": [
    "import mysql.connector\n",
    "import pandas as pd\n",
    "\n",
    "# Establecer la conexión a la base de datos\n",
    "conexion = mysql.connector.connect(\n",
    "    host=\"localhost\",\n",
    "    port=\"33061\",\n",
    "    user=\"root\",\n",
    "    password=\"1234\"\n",
    ")\n",
    "\n",
    "\n",
    "\n",
    "# Crear la base de datos\n",
    "cursor = conexion.cursor()\n",
    "cursor.execute(\"CREATE DATABASE IF NOT EXISTS internet\")\n",
    "conexion.database = \"internet\""
   ]
  },
  {
   "cell_type": "code",
   "execution_count": 6,
   "metadata": {},
   "outputs": [],
   "source": [
    "# Nombre del archivo CSV\n",
    "archivo_csv = '/home/juanjo/Proyectos/Proyecto_Henry02/Datasets/tabla_tiempo.csv'\n",
    "\n",
    "# Nombre de la tabla\n",
    "tabla_nombre = 'tabla_tiempo'\n",
    "\n",
    "sql_create_table = f\"\"\"\n",
    "    CREATE TABLE IF NOT EXISTS {tabla_nombre} (\n",
    "        ID_tiempo INT PRIMARY KEY,\n",
    "        Año INT,\n",
    "        Trimestre INT,\n",
    "        Periodo VARCHAR(255)\n",
    "    )\n",
    "\"\"\"\n",
    "cursor.execute(sql_create_table)\n",
    "\n",
    "sql_load_data = f\"\"\"\n",
    "    LOAD DATA INFILE '{archivo_csv}'\n",
    "    INTO TABLE {tabla_nombre}\n",
    "    FIELDS TERMINATED BY ','\n",
    "    LINES TERMINATED BY '\\n'\n",
    "    IGNORE 1 LINES\n",
    "    (ID_tiempo, Año, Trimestre, Periodo)\n",
    "\"\"\"\n",
    "\n",
    "# Ejecutar la sentencia SQL\n",
    "cursor.execute(sql_load_data)\n",
    "\n",
    "# Confirmar los cambios y cerrar la conexión\n",
    "conexion.commit()\n",
    "conexion.close()"
   ]
  },
  {
   "cell_type": "code",
   "execution_count": 3,
   "metadata": {},
   "outputs": [],
   "source": [
    "conexion.close()"
   ]
  }
 ],
 "metadata": {
  "kernelspec": {
   "display_name": "Python 3",
   "language": "python",
   "name": "python3"
  },
  "language_info": {
   "codemirror_mode": {
    "name": "ipython",
    "version": 3
   },
   "file_extension": ".py",
   "mimetype": "text/x-python",
   "name": "python",
   "nbconvert_exporter": "python",
   "pygments_lexer": "ipython3",
   "version": "3.8.10"
  },
  "orig_nbformat": 4
 },
 "nbformat": 4,
 "nbformat_minor": 2
}
