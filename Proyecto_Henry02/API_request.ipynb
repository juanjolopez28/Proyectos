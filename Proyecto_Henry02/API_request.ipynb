{
 "cells": [
  {
   "cell_type": "markdown",
   "metadata": {},
   "source": [
    "## Haremos las funciones para consultar datos desde la API"
   ]
  },
  {
   "cell_type": "markdown",
   "metadata": {},
   "source": [
    "key= uhV7z8lvHJoxr48p8dt7bvRYvAAoLFYbpttFb4H9"
   ]
  },
  {
   "cell_type": "code",
   "execution_count": 15,
   "metadata": {},
   "outputs": [
    {
     "name": "stdout",
     "output_type": "stream",
     "text": [
      "    Año Trimestre Banda ancha fija Dial up       Total        Periodo\n",
      "0  2022         3       11,078,691  12,437  11,091,128  Jul-Sept 2022\n"
     ]
    }
   ],
   "source": [
    "import requests\n",
    "import pandas as pd\n",
    "\n",
    "# Realizar una solicitud GET a la API\n",
    "response = requests.get('http://api.datosabiertos.enacom.gob.ar/api/v2/datastreams/TOTAL-NACIO-DE-ACCES-48866/data.ajson/?auth_key=uhV7z8lvHJoxr48p8dt7bvRYvAAoLFYbpttFb4H9&limit=2&')\n",
    "\n",
    "# Verificar si la solicitud fue exitosa (código de estado 200)\n",
    "if response.status_code == 200:\n",
    "    # Obtener los datos de la respuesta en formato JSON\n",
    "    json_data = response.json()\n",
    "    # Obtener los datos de 'result'\n",
    "    data = json_data['result']\n",
    "    # Obtener los nombres de las columnas\n",
    "    columns = data[0]\n",
    "    # Obtener los datos excluyendo el primer elemento (nombres de columnas)\n",
    "    rows = data[1:]\n",
    "    df = pd.DataFrame(rows, columns=columns)\n",
    "    # Mostrar el DataFrame\n",
    "    print(df)\n",
    "else:\n",
    "    # Mostrar un mensaje de error si la solicitud no fue exitosa\n",
    "    print('Error al consumir la API:', response.status_code)"
   ]
  },
  {
   "cell_type": "code",
   "execution_count": null,
   "metadata": {},
   "outputs": [],
   "source": []
  }
 ],
 "metadata": {
  "kernelspec": {
   "display_name": "Python 3",
   "language": "python",
   "name": "python3"
  },
  "language_info": {
   "codemirror_mode": {
    "name": "ipython",
    "version": 3
   },
   "file_extension": ".py",
   "mimetype": "text/x-python",
   "name": "python",
   "nbconvert_exporter": "python",
   "pygments_lexer": "ipython3",
   "version": "3.8.10"
  },
  "orig_nbformat": 4
 },
 "nbformat": 4,
 "nbformat_minor": 2
}
