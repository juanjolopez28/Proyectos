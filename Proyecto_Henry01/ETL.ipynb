{
 "cells": [
  {
   "cell_type": "code",
   "execution_count": 30,
   "metadata": {},
   "outputs": [
    {
     "name": "stderr",
     "output_type": "stream",
     "text": [
      "/tmp/ipykernel_719/3851493606.py:2: FutureWarning: The error_bad_lines argument has been deprecated and will be removed in a future version. Use on_bad_lines in the future.\n",
      "\n",
      "\n",
      "  df_movies = pd.read_csv('Dataset/movies_dataset_.csv',delimiter=';',header='infer',encoding='latin1', error_bad_lines=False)\n",
      "/tmp/ipykernel_719/3851493606.py:2: DtypeWarning: Columns (10) have mixed types. Specify dtype option on import or set low_memory=False.\n",
      "  df_movies = pd.read_csv('Dataset/movies_dataset_.csv',delimiter=';',header='infer',encoding='latin1', error_bad_lines=False)\n"
     ]
    },
    {
     "data": {
      "text/plain": [
       "['adult',\n",
       " 'belongs_to_collection',\n",
       " 'budget',\n",
       " 'genres',\n",
       " 'homepage',\n",
       " 'id',\n",
       " 'imdb_id',\n",
       " 'original_language',\n",
       " 'original_title',\n",
       " 'overview',\n",
       " 'popularity',\n",
       " 'poster_path',\n",
       " 'production_companies',\n",
       " 'production_countries',\n",
       " 'release_date',\n",
       " 'revenue',\n",
       " 'runtime',\n",
       " 'spoken_languages',\n",
       " 'status',\n",
       " 'tagline',\n",
       " 'title',\n",
       " 'video',\n",
       " 'vote_average',\n",
       " 'vote_count']"
      ]
     },
     "execution_count": 30,
     "metadata": {},
     "output_type": "execute_result"
    }
   ],
   "source": [
    "import pandas as pd\n",
    "df_movies = pd.read_csv('Dataset/movies_dataset_.csv',delimiter=';',header='infer',encoding='latin1', error_bad_lines=False)\n",
    "list(df_movies.columns)"
   ]
  },
  {
   "cell_type": "markdown",
   "metadata": {},
   "source": [
    "## Limpieza de elementos Nulos y repetidos"
   ]
  },
  {
   "cell_type": "code",
   "execution_count": 31,
   "metadata": {},
   "outputs": [],
   "source": [
    "#eliminamos las columnas que no usaremos\n",
    "df_movies.drop(['video', 'imdb_id','adult','original_title','poster_path','homepage'], axis=1, inplace=True)\n"
   ]
  },
  {
   "cell_type": "code",
   "execution_count": 32,
   "metadata": {},
   "outputs": [
    {
     "data": {
      "text/plain": [
       "belongs_to_collection    40972\n",
       "budget                       0\n",
       "genres                       0\n",
       "id                           0\n",
       "original_language           11\n",
       "overview                   959\n",
       "popularity                   5\n",
       "production_companies         3\n",
       "production_countries         3\n",
       "release_date                87\n",
       "revenue                      6\n",
       "runtime                    263\n",
       "spoken_languages             6\n",
       "status                      87\n",
       "tagline                  25055\n",
       "title                        6\n",
       "vote_average                 6\n",
       "vote_count                   6\n",
       "dtype: int64"
      ]
     },
     "execution_count": 32,
     "metadata": {},
     "output_type": "execute_result"
    }
   ],
   "source": [
    "#verificamos que columnas tienen valores nulos\n",
    "df_movies.isnull().sum()"
   ]
  },
  {
   "cell_type": "code",
   "execution_count": 33,
   "metadata": {},
   "outputs": [
    {
     "data": {
      "text/plain": [
       "belongs_to_collection    40972\n",
       "budget                       0\n",
       "genres                       0\n",
       "id                           0\n",
       "original_language           11\n",
       "overview                   959\n",
       "popularity                   3\n",
       "production_companies         3\n",
       "production_countries         3\n",
       "release_date                87\n",
       "revenue                      3\n",
       "runtime                    260\n",
       "spoken_languages             3\n",
       "status                      84\n",
       "tagline                  25052\n",
       "title                        3\n",
       "vote_average                 3\n",
       "vote_count                   3\n",
       "dtype: int64"
      ]
     },
     "execution_count": 33,
     "metadata": {},
     "output_type": "execute_result"
    }
   ],
   "source": [
    "#elimnamos las filas de id que nulos\n",
    "df_movies['id'] = pd.to_numeric(df_movies['id'], errors='coerce').astype('Int64')\n",
    "\n",
    "df_movies = df_movies.dropna(axis=0, how='any',subset='id')\n",
    "df_movies.isnull().sum()"
   ]
  },
  {
   "cell_type": "code",
   "execution_count": 34,
   "metadata": {},
   "outputs": [
    {
     "name": "stdout",
     "output_type": "stream",
     "text": [
      "Int64Index([], dtype='int64')\n"
     ]
    }
   ],
   "source": [
    "#verificamos que todas las filas tengan la misma cantidad de atributos\n",
    "num_columnas = df_movies.shape[1]\n",
    "\n",
    "# Identificar los índices de las filas con más o menos valores que el número de columnas\n",
    "indices_filas_extras = df_movies[df_movies.apply(lambda row: len(row) != num_columnas, axis=1)].index\n",
    "\n",
    "print(indices_filas_extras)"
   ]
  },
  {
   "cell_type": "code",
   "execution_count": 35,
   "metadata": {},
   "outputs": [
    {
     "data": {
      "text/plain": [
       "belongs_to_collection    40972\n",
       "budget                       0\n",
       "genres                       0\n",
       "id                           0\n",
       "original_language           11\n",
       "overview                   959\n",
       "popularity                   3\n",
       "production_companies         3\n",
       "production_countries         3\n",
       "release_date                87\n",
       "revenue                      0\n",
       "runtime                    260\n",
       "spoken_languages             3\n",
       "status                      84\n",
       "tagline                  25052\n",
       "title                        3\n",
       "vote_average                 3\n",
       "vote_count                   3\n",
       "dtype: int64"
      ]
     },
     "execution_count": 35,
     "metadata": {},
     "output_type": "execute_result"
    }
   ],
   "source": [
    "#convertimos los valores nulos o no numericos (nan) a 0 en budget y revenue\n",
    "df_movies.budget = df_movies.budget.fillna(0)\n",
    "df_movies.revenue = df_movies.revenue.fillna(0)\n",
    "df_movies.isnull().sum()\n"
   ]
  },
  {
   "cell_type": "code",
   "execution_count": 36,
   "metadata": {},
   "outputs": [
    {
     "data": {
      "text/plain": [
       "belongs_to_collection    40888\n",
       "budget                       0\n",
       "genres                       0\n",
       "id                           0\n",
       "original_language           11\n",
       "overview                   946\n",
       "popularity                   0\n",
       "production_companies         0\n",
       "production_countries         0\n",
       "release_date                 0\n",
       "revenue                      0\n",
       "runtime                    246\n",
       "spoken_languages             0\n",
       "status                      80\n",
       "tagline                  24979\n",
       "title                        0\n",
       "vote_average                 0\n",
       "vote_count                   0\n",
       "dtype: int64"
      ]
     },
     "execution_count": 36,
     "metadata": {},
     "output_type": "execute_result"
    }
   ],
   "source": [
    "#eliminamos los valores nulos de release_date , axis 0 filas\n",
    "df_movies = df_movies.dropna(axis=0, how='any',subset='release_date')\n",
    "df_movies.isnull().sum()"
   ]
  },
  {
   "cell_type": "code",
   "execution_count": 37,
   "metadata": {},
   "outputs": [
    {
     "data": {
      "text/plain": [
       "belongs_to_collection     object\n",
       "budget                    object\n",
       "genres                    object\n",
       "id                         Int64\n",
       "original_language         object\n",
       "overview                  object\n",
       "popularity                object\n",
       "production_companies      object\n",
       "production_countries      object\n",
       "release_date              object\n",
       "revenue                  float64\n",
       "runtime                  float64\n",
       "spoken_languages          object\n",
       "status                    object\n",
       "tagline                   object\n",
       "title                     object\n",
       "vote_average             float64\n",
       "vote_count               float64\n",
       "dtype: object"
      ]
     },
     "execution_count": 37,
     "metadata": {},
     "output_type": "execute_result"
    }
   ],
   "source": [
    "#verificamos los tipos de datos de nuestra data\n",
    "df_movies.dtypes"
   ]
  },
  {
   "cell_type": "code",
   "execution_count": 38,
   "metadata": {},
   "outputs": [
    {
     "data": {
      "text/plain": [
       "belongs_to_collection    40888\n",
       "budget                       0\n",
       "genres                       0\n",
       "id                           0\n",
       "original_language           11\n",
       "overview                   946\n",
       "popularity                   0\n",
       "production_companies         0\n",
       "production_countries         0\n",
       "release_date                 0\n",
       "revenue                      0\n",
       "runtime                    246\n",
       "spoken_languages             0\n",
       "status                      80\n",
       "tagline                  24979\n",
       "title                        0\n",
       "vote_average                 0\n",
       "vote_count                   0\n",
       "dtype: int64"
      ]
     },
     "execution_count": 38,
     "metadata": {},
     "output_type": "execute_result"
    }
   ],
   "source": [
    "#Eliminamos los valores que no pueden convertirse en numero en budget\n",
    "df_movies['budget'] = pd.to_numeric(df_movies['budget'], errors='coerce')\n",
    "df_movies = df_movies.dropna(axis=0, how='any',subset='budget')\n",
    "df_movies.isnull().sum()"
   ]
  },
  {
   "cell_type": "code",
   "execution_count": 39,
   "metadata": {},
   "outputs": [],
   "source": [
    "#Crear la columna con el retorno de inversión, llamada return con los campos revenue y budget,dividiendo\n",
    "#estas dos últimas revenue / budget, cuando no hay datos disponibles para calcularlo, deberá tomar el valor 0\n",
    "\n",
    "\n",
    "\n",
    "#NUEVO COD\n",
    "def calculate_return(row):\n",
    "    revenue = row['revenue']\n",
    "    budget = row['budget']\n",
    "    if budget != 0:\n",
    "        return revenue / budget\n",
    "    else:\n",
    "        return 0\n",
    "df_movies['return'] = df_movies.apply(calculate_return, axis=1)\n"
   ]
  },
  {
   "cell_type": "code",
   "execution_count": 40,
   "metadata": {},
   "outputs": [
    {
     "data": {
      "text/plain": [
       "belongs_to_collection    40888\n",
       "budget                       0\n",
       "genres                       0\n",
       "id                           0\n",
       "original_language           11\n",
       "overview                   946\n",
       "popularity                   0\n",
       "production_companies         0\n",
       "production_countries         0\n",
       "release_date                 0\n",
       "revenue                      0\n",
       "runtime                    246\n",
       "spoken_languages             0\n",
       "status                      80\n",
       "tagline                  24979\n",
       "title                        0\n",
       "vote_average                 0\n",
       "vote_count                   0\n",
       "return                       0\n",
       "dtype: int64"
      ]
     },
     "execution_count": 40,
     "metadata": {},
     "output_type": "execute_result"
    }
   ],
   "source": [
    "#Convertimos las fechas en formato:  formato AAAA-mm-dd\n",
    "df_movies['release_date'] = pd.to_datetime(df_movies['release_date'], errors='coerce')\n",
    "df_movies.isnull().sum()"
   ]
  },
  {
   "cell_type": "code",
   "execution_count": 41,
   "metadata": {},
   "outputs": [
    {
     "name": "stdout",
     "output_type": "stream",
     "text": [
      "45346\n"
     ]
    },
    {
     "data": {
      "text/plain": [
       "belongs_to_collection    40861\n",
       "budget                       0\n",
       "genres                       0\n",
       "id                           0\n",
       "original_language           11\n",
       "overview                   946\n",
       "popularity                   0\n",
       "production_companies         0\n",
       "production_countries         0\n",
       "release_date                 0\n",
       "revenue                      0\n",
       "runtime                    246\n",
       "spoken_languages             0\n",
       "status                      80\n",
       "tagline                  24960\n",
       "title                        0\n",
       "vote_average                 0\n",
       "vote_count                   0\n",
       "return                       0\n",
       "dtype: int64"
      ]
     },
     "execution_count": 41,
     "metadata": {},
     "output_type": "execute_result"
    }
   ],
   "source": [
    "#Eliminamos los ID repetidos de movies\n",
    "df_movies.drop_duplicates(subset=['id'], keep='first', inplace=True)\n",
    "cantidad_filas = df_movies.shape[0]\n",
    "print(cantidad_filas)\n",
    "df_movies.isnull().sum()"
   ]
  },
  {
   "cell_type": "markdown",
   "metadata": {},
   "source": [
    "## Desanidamos los dados en formato de lista de diccionarios o diccionarios"
   ]
  },
  {
   "cell_type": "code",
   "execution_count": 42,
   "metadata": {},
   "outputs": [
    {
     "data": {
      "text/plain": [
       "0         [Animation, Comedy, Family]\n",
       "1        [Adventure, Fantasy, Family]\n",
       "2                   [Romance, Comedy]\n",
       "3            [Comedy, Drama, Romance]\n",
       "4                            [Comedy]\n",
       "                     ...             \n",
       "45460        [Drama, Action, Romance]\n",
       "45462                         [Drama]\n",
       "45463       [Action, Drama, Thriller]\n",
       "45464                              []\n",
       "45465                              []\n",
       "Name: genres, Length: 45346, dtype: object"
      ]
     },
     "execution_count": 42,
     "metadata": {},
     "output_type": "execute_result"
    }
   ],
   "source": [
    "#genres\n",
    "import ast\n",
    "import json\n",
    "#extraemos solo el name de los generos, la columna esta es formato lista de diccionarios\n",
    "df_movies['genres'] = df_movies['genres'].apply(lambda x: json.loads(str(x).replace(\"'\", '\"')))\n",
    "\n",
    "df_movies['genres'] = df_movies['genres'].apply(lambda x: [dic['name'] for dic in x])\n",
    "df_movies['genres']"
   ]
  },
  {
   "cell_type": "code",
   "execution_count": 43,
   "metadata": {},
   "outputs": [
    {
     "name": "stdout",
     "output_type": "stream",
     "text": [
      "Filas con error:\n",
      "Índice: 4321 - Valor: [{'iso_3166_1': 'CI', 'name': \"Cote D'Ivoire\"}, {'iso_3166_1': 'BF', 'name': 'Burkina Faso'}, {'iso_3166_1': 'FR', 'name': 'France'}, {'iso_3166_1': 'IT', 'name': 'Italy'}, {'iso_3166_1': 'CH', 'name': 'Switzerland'}]\n",
      "Índice: 6954 - Valor: [{'iso_3166_1': 'CI', 'name': \"Cote D'Ivoire\"}, {'iso_3166_1': 'FR', 'name': 'France'}, {'iso_3166_1': 'DE', 'name': 'Germany'}, {'iso_3166_1': 'CH', 'name': 'Switzerland'}]\n",
      "Índice: 23274 - Valor: [{'iso_3166_1': 'AU', 'name': 'Australia'}, {'iso_3166_1': 'LA', 'name': \"Lao People's Democratic Republic\"}, {'iso_3166_1': 'TH', 'name': 'Thailand'}]\n",
      "Índice: 30435 - Valor: [{'iso_3166_1': 'LA', 'name': \"Lao People's Democratic Republic\"}]\n",
      "Índice: 39708 - Valor: [{'iso_3166_1': 'CA', 'name': 'Canada'}, {'iso_3166_1': 'LA', 'name': \"Lao People's Democratic Republic\"}]\n"
     ]
    }
   ],
   "source": [
    "#verificamos en que filas hay un error de lectura en nombre\n",
    "\n",
    "error_indices_values = []\n",
    "\n",
    "for i, row in df_movies.iterrows():\n",
    "    try:\n",
    "        json.loads(row['production_countries'].replace(\"'\", '\"'))\n",
    "    except json.JSONDecodeError:\n",
    "        error_indices_values.append((i, row['production_countries']))\n",
    "\n",
    "print(\"Filas con error:\")\n",
    "for index, value in error_indices_values:\n",
    "    print(\"Índice:\", index, \"- Valor:\", value)"
   ]
  },
  {
   "cell_type": "code",
   "execution_count": 44,
   "metadata": {},
   "outputs": [],
   "source": [
    "\n",
    "#TRANSFORMAMOS LOS DATOS DE PRODUCTION COUNTRIES EN LISTAS QUE SOLO TENGAN EL NAME\n",
    "def transform_countries(value):\n",
    "    try:\n",
    "        countries_list = ast.literal_eval(value)\n",
    "        return [dic['name'].strip(\"'\") if isinstance(dic['name'], str) else dic['name'] for dic in countries_list]\n",
    "    except (SyntaxError, ValueError):\n",
    "        return []\n",
    "\n",
    "# Aplicar la transformación a la columna 'production_countries'\n",
    "df_movies['production_countries'] = df_movies['production_countries'].apply(transform_countries)\n"
   ]
  },
  {
   "cell_type": "code",
   "execution_count": 45,
   "metadata": {},
   "outputs": [
    {
     "data": {
      "text/plain": [
       "0                                [Pixar Animation Studios]\n",
       "1        [TriStar Pictures, Teitler Film, Interscope Co...\n",
       "2                           [Warner Bros., Lancaster Gate]\n",
       "3                 [Twentieth Century Fox Film Corporation]\n",
       "4             [Sandollar Productions, Touchstone Pictures]\n",
       "                               ...                        \n",
       "45460    [Westdeutscher Rundfunk (WDR), Working Title F...\n",
       "45462                                        [Sine Olivia]\n",
       "45463                            [American World Pictures]\n",
       "45464                                          [Yermoliev]\n",
       "45465                                                   []\n",
       "Name: production_companies, Length: 45346, dtype: object"
      ]
     },
     "execution_count": 45,
     "metadata": {},
     "output_type": "execute_result"
    }
   ],
   "source": [
    "##TRANSFORMAMOS LOS DATOS DE PRODUCTION COMPANIES EN LISTAS QUE SOLO TENGAN EL NAME DE LA PRODUCTORA\n",
    "def transform_companies(value):\n",
    "    try:\n",
    "        companies_list = ast.literal_eval(value)\n",
    "        return [dic['name'].strip(\"'\") if isinstance(dic['name'], str) else dic['name'] for dic in companies_list]\n",
    "    except (SyntaxError, ValueError):\n",
    "        return []\n",
    "\n",
    "# Aplicar la transformación a la columna 'production_countries'\n",
    "df_movies['production_companies'] = df_movies['production_companies'].apply(transform_companies)\n",
    "df_movies['production_companies']"
   ]
  },
  {
   "cell_type": "code",
   "execution_count": 46,
   "metadata": {},
   "outputs": [
    {
     "data": {
      "text/plain": [
       "belongs_to_collection    40861\n",
       "budget                       0\n",
       "genres                       0\n",
       "id                           0\n",
       "original_language           11\n",
       "overview                   946\n",
       "popularity                   0\n",
       "production_companies         0\n",
       "production_countries         0\n",
       "release_date                 0\n",
       "revenue                      0\n",
       "runtime                    246\n",
       "spoken_languages             0\n",
       "status                      80\n",
       "tagline                  24960\n",
       "title                        0\n",
       "vote_average                 0\n",
       "vote_count                   0\n",
       "return                       0\n",
       "dtype: int64"
      ]
     },
     "execution_count": 46,
     "metadata": {},
     "output_type": "execute_result"
    }
   ],
   "source": [
    "df_movies.isnull().sum()"
   ]
  },
  {
   "cell_type": "code",
   "execution_count": 47,
   "metadata": {},
   "outputs": [
    {
     "data": {
      "text/plain": [
       "belongs_to_collection            object\n",
       "budget                            int64\n",
       "genres                           object\n",
       "id                                Int64\n",
       "original_language                object\n",
       "overview                         object\n",
       "popularity                       object\n",
       "production_companies             object\n",
       "production_countries             object\n",
       "release_date             datetime64[ns]\n",
       "revenue                         float64\n",
       "runtime                         float64\n",
       "spoken_languages                 object\n",
       "status                           object\n",
       "tagline                          object\n",
       "title                            object\n",
       "vote_average                    float64\n",
       "vote_count                      float64\n",
       "return                          float64\n",
       "dtype: object"
      ]
     },
     "execution_count": 47,
     "metadata": {},
     "output_type": "execute_result"
    }
   ],
   "source": [
    "df_movies.dtypes"
   ]
  },
  {
   "cell_type": "code",
   "execution_count": 48,
   "metadata": {},
   "outputs": [
    {
     "name": "stdout",
     "output_type": "stream",
     "text": [
      "Int64Index([], dtype='int64')\n"
     ]
    }
   ],
   "source": [
    "# Identificamos los índices de las filas con más o menos valores que el número de columnas\n",
    "num_columnas = df_movies.shape[1]\n",
    "\n",
    "indices_filas_extras = df_movies[df_movies.apply(lambda row: len(row) != num_columnas, axis=1)].index\n",
    "\n",
    "print(indices_filas_extras)"
   ]
  },
  {
   "cell_type": "code",
   "execution_count": 49,
   "metadata": {},
   "outputs": [],
   "source": [
    "#desanidamos de nuevo los datos:\n",
    "\n",
    "df_movies['belongs_to_collection'] = df_movies['belongs_to_collection'].apply(lambda x: ast.literal_eval(str(x)) if pd.notnull(x) else x)\n",
    "df_movies['belongs_to_collection'] = df_movies['belongs_to_collection'].apply(lambda x: json.loads(x) if isinstance(x, str) else x)\n",
    "\n",
    "\n",
    "df_desanidado = pd.json_normalize(df_movies['belongs_to_collection'])\n",
    "\n",
    "columnas_a_eliminar = ['poster_path', 'backdrop_path']\n",
    "df_desanidado= df_desanidado.drop(columnas_a_eliminar, axis=1)\n",
    "#cambiamos el nombre del id de la pelicula de belongs\n",
    "df_desanidado.rename(columns={'id': 'id_collection'}, inplace=True)\n",
    "df_desanidado.rename(columns={'name': 'name_collection'}, inplace=True)\n",
    "\n",
    "#cambiamos el tipo de datos del id\n",
    "df_desanidado['id_collection'] = pd.to_numeric(df_desanidado['id_collection'], errors='coerce').astype('Int64')\n",
    "\n",
    "\n",
    "df_movies.drop('belongs_to_collection', axis=1, inplace=True)\n",
    "# especificamos que se une fila por fila, primero \n",
    "nombres_columnas = list(df_desanidado.columns) + list(df_movies.columns)\n",
    "\n",
    "df1_reset = df_desanidado.reset_index(drop=True)\n",
    "df2_reset = df_movies.reset_index(drop=True)\n",
    "\n",
    "df_concatenado = pd.concat([df1_reset,df2_reset], axis=1,ignore_index=True)\n",
    "df_concatenado\n",
    "#df_concatenado.to_csv('data3.csv', index=False)\n",
    "df_concatenado.columns=nombres_columnas\n",
    "\n",
    "\n"
   ]
  },
  {
   "cell_type": "code",
   "execution_count": 50,
   "metadata": {},
   "outputs": [
    {
     "data": {
      "text/plain": [
       "id_collection           40861\n",
       "name_collection         40861\n",
       "budget                      0\n",
       "genres                      0\n",
       "id                          0\n",
       "original_language          11\n",
       "overview                  946\n",
       "popularity                  0\n",
       "production_companies        0\n",
       "production_countries        0\n",
       "release_date                0\n",
       "revenue                     0\n",
       "runtime                   246\n",
       "spoken_languages            0\n",
       "status                     80\n",
       "tagline                 24960\n",
       "title                       0\n",
       "vote_average                0\n",
       "vote_count                  0\n",
       "return                      0\n",
       "dtype: int64"
      ]
     },
     "execution_count": 50,
     "metadata": {},
     "output_type": "execute_result"
    }
   ],
   "source": [
    "#eliminamos los valores nulos de concatenado\n",
    "df_concatenado['id'] = pd.to_numeric(df_concatenado['id'], errors='coerce').astype('Int64')\n",
    "\n",
    "df_concatenado= df_concatenado.dropna(axis=0, how='any',subset='id')\n",
    "df_concatenado.isnull().sum()\n"
   ]
  },
  {
   "cell_type": "code",
   "execution_count": 51,
   "metadata": {},
   "outputs": [
    {
     "data": {
      "text/html": [
       "<div>\n",
       "<style scoped>\n",
       "    .dataframe tbody tr th:only-of-type {\n",
       "        vertical-align: middle;\n",
       "    }\n",
       "\n",
       "    .dataframe tbody tr th {\n",
       "        vertical-align: top;\n",
       "    }\n",
       "\n",
       "    .dataframe thead th {\n",
       "        text-align: right;\n",
       "    }\n",
       "</style>\n",
       "<table border=\"1\" class=\"dataframe\">\n",
       "  <thead>\n",
       "    <tr style=\"text-align: right;\">\n",
       "      <th></th>\n",
       "      <th>name_collection</th>\n",
       "      <th>title</th>\n",
       "    </tr>\n",
       "  </thead>\n",
       "  <tbody>\n",
       "    <tr>\n",
       "      <th>0</th>\n",
       "      <td>Toy Story Collection</td>\n",
       "      <td>Toy Story</td>\n",
       "    </tr>\n",
       "    <tr>\n",
       "      <th>2994</th>\n",
       "      <td>Toy Story Collection</td>\n",
       "      <td>Toy Story 2</td>\n",
       "    </tr>\n",
       "    <tr>\n",
       "      <th>15335</th>\n",
       "      <td>Toy Story Collection</td>\n",
       "      <td>Toy Story 3</td>\n",
       "    </tr>\n",
       "  </tbody>\n",
       "</table>\n",
       "</div>"
      ],
      "text/plain": [
       "            name_collection        title\n",
       "0      Toy Story Collection    Toy Story\n",
       "2994   Toy Story Collection  Toy Story 2\n",
       "15335  Toy Story Collection  Toy Story 3"
      ]
     },
     "execution_count": 51,
     "metadata": {},
     "output_type": "execute_result"
    }
   ],
   "source": [
    "#buscamos algunos datos en movies\n",
    "datos_columna2 = df_concatenado.loc[df_concatenado['id_collection'] == 10194, ['name_collection','title']]\n",
    "datos_columna2"
   ]
  },
  {
   "cell_type": "code",
   "execution_count": 52,
   "metadata": {},
   "outputs": [
    {
     "data": {
      "text/plain": [
       "Index(['id_collection', 'name_collection', 'budget', 'genres', 'id',\n",
       "       'original_language', 'overview', 'popularity', 'production_companies',\n",
       "       'production_countries', 'release_date', 'revenue', 'runtime',\n",
       "       'spoken_languages', 'status', 'tagline', 'title', 'vote_average',\n",
       "       'vote_count', 'return'],\n",
       "      dtype='object')"
      ]
     },
     "execution_count": 52,
     "metadata": {},
     "output_type": "execute_result"
    }
   ],
   "source": [
    "df_concatenado.columns"
   ]
  },
  {
   "cell_type": "markdown",
   "metadata": {},
   "source": [
    "## Desanidamos los datos de la base de datos Credits"
   ]
  },
  {
   "cell_type": "code",
   "execution_count": 53,
   "metadata": {},
   "outputs": [
    {
     "data": {
      "text/plain": [
       "['cast', 'crew', 'id']"
      ]
     },
     "execution_count": 53,
     "metadata": {},
     "output_type": "execute_result"
    }
   ],
   "source": [
    "#desanidamos los datos de Credits\n",
    "df_credits = pd.read_csv('Dataset/credits.csv',delimiter=',',header='infer')\n",
    "\n",
    "#imprimimos en una lista los headers\n",
    "list(df_credits.columns)"
   ]
  },
  {
   "cell_type": "code",
   "execution_count": 54,
   "metadata": {},
   "outputs": [
    {
     "data": {
      "text/plain": [
       "0    [{'credit_id': '52fe4284c3a36847f8024f49', 'de...\n",
       "Name: crew, dtype: object"
      ]
     },
     "execution_count": 54,
     "metadata": {},
     "output_type": "execute_result"
    }
   ],
   "source": [
    "#buscamos algunos datos\n",
    "datos_columna2 = df_credits.loc[df_credits['id'] == 862, 'crew']\n",
    "datos_columna2\n",
    "#df_movies['title']"
   ]
  },
  {
   "cell_type": "code",
   "execution_count": 55,
   "metadata": {},
   "outputs": [
    {
     "name": "stdout",
     "output_type": "stream",
     "text": [
      "45346\n"
     ]
    }
   ],
   "source": [
    "#Eliminamos los ID repetidos de credits\n",
    "df_credits.drop_duplicates(subset=['id'], keep='first', inplace=True)\n",
    "#eliminamos la columna cast\n",
    "df_credits.drop('cast', axis=1, inplace=True)\n",
    "#imprimimos el total de filas\n",
    "cantidad_filas = df_movies.shape[0]\n",
    "print(cantidad_filas)"
   ]
  },
  {
   "cell_type": "code",
   "execution_count": null,
   "metadata": {},
   "outputs": [],
   "source": []
  },
  {
   "cell_type": "code",
   "execution_count": 56,
   "metadata": {},
   "outputs": [
    {
     "data": {
      "text/plain": [
       "0           [John Lasseter]\n",
       "1            [Joe Johnston]\n",
       "2           [Howard Deutch]\n",
       "3         [Forest Whitaker]\n",
       "4           [Charles Shyer]\n",
       "                ...        \n",
       "45471    [Hamid Nematollah]\n",
       "45472            [Lav Diaz]\n",
       "45473      [Mark L. Lester]\n",
       "45474    [Yakov Protazanov]\n",
       "45475       [Daisy Asquith]\n",
       "Name: crew, Length: 45432, dtype: object"
      ]
     },
     "execution_count": 56,
     "metadata": {},
     "output_type": "execute_result"
    }
   ],
   "source": [
    "#El uso de dic.get('job') en lugar de dic['job'] permite manejar el caso en el que la clave 'job'\n",
    "# no está presente en un diccionario sin generar una excepción.\n",
    "\n",
    "#como ya no es un string se aplica eval \n",
    "df_credits['crew'] = df_credits['crew'].apply(eval)\n",
    "df_credits['crew'] = df_credits['crew'].apply(lambda x: [dic['name'] for dic in x if dic.get('job') == 'Director'])\n",
    "\n",
    "df_credits['crew']\n"
   ]
  },
  {
   "cell_type": "markdown",
   "metadata": {},
   "source": [
    "## Concatenamos nuestros datos y los exportamos"
   ]
  },
  {
   "cell_type": "code",
   "execution_count": 57,
   "metadata": {},
   "outputs": [
    {
     "data": {
      "text/plain": [
       "Index(['title', 'id_collection', 'name_collection', 'budget', 'genres', 'id',\n",
       "       'original_language', 'overview', 'popularity', 'production_companies',\n",
       "       'production_countries', 'release_date', 'revenue', 'runtime',\n",
       "       'spoken_languages', 'status', 'tagline', 'vote_average', 'vote_count',\n",
       "       'return', 'crew'],\n",
       "      dtype='object')"
      ]
     },
     "execution_count": 57,
     "metadata": {},
     "output_type": "execute_result"
    }
   ],
   "source": [
    "#contatenamos el dtframe movie con el datacredits\n",
    "\n",
    "df_unido = pd.merge(df_concatenado, df_credits, on='id')\n",
    "\n",
    "column_name = \"title\"\n",
    "df_unido = df_unido[[column_name] + [col for col in df_unido.columns if col != column_name]]\n",
    "df_unido.columns\n"
   ]
  },
  {
   "cell_type": "code",
   "execution_count": 58,
   "metadata": {},
   "outputs": [],
   "source": [
    "#exportamos nuestros datos en un csv\n",
    "df_unido.to_csv('data.csv', index=False)\n"
   ]
  }
 ],
 "metadata": {
  "kernelspec": {
   "display_name": "Python 3",
   "language": "python",
   "name": "python3"
  },
  "language_info": {
   "codemirror_mode": {
    "name": "ipython",
    "version": 3
   },
   "file_extension": ".py",
   "mimetype": "text/x-python",
   "name": "python",
   "nbconvert_exporter": "python",
   "pygments_lexer": "ipython3",
   "version": "3.8.10"
  },
  "orig_nbformat": 4
 },
 "nbformat": 4,
 "nbformat_minor": 2
}
