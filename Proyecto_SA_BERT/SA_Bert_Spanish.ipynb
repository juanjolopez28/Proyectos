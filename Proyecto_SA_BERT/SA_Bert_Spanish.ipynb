{
  "nbformat": 4,
  "nbformat_minor": 0,
  "metadata": {
    "colab": {
      "provenance": []
    },
    "kernelspec": {
      "name": "python3",
      "display_name": "Python 3"
    },
    "accelerator": "GPU",
    "widgets": {
      "application/vnd.jupyter.widget-state+json": {
        "83d5d99129824af6bdfd36f5c17fbcaf": {
          "model_module": "@jupyter-widgets/controls",
          "model_name": "HBoxModel",
          "state": {
            "_view_name": "HBoxView",
            "_dom_classes": [],
            "_model_name": "HBoxModel",
            "_view_module": "@jupyter-widgets/controls",
            "_model_module_version": "1.5.0",
            "_view_count": null,
            "_view_module_version": "1.5.0",
            "box_style": "",
            "layout": "IPY_MODEL_f81b84d39b5c4fb09aad25bc04940000",
            "_model_module": "@jupyter-widgets/controls",
            "children": [
              "IPY_MODEL_8ef2d8bf5c4a4639b133da4f02b4ec58",
              "IPY_MODEL_8f0167bcfff044d9a6d159853244c7d1"
            ]
          },
          "model_module_version": "1.5.0"
        },
        "f81b84d39b5c4fb09aad25bc04940000": {
          "model_module": "@jupyter-widgets/base",
          "model_name": "LayoutModel",
          "state": {
            "_view_name": "LayoutView",
            "grid_template_rows": null,
            "right": null,
            "justify_content": null,
            "_view_module": "@jupyter-widgets/base",
            "overflow": null,
            "_model_module_version": "1.2.0",
            "_view_count": null,
            "flex_flow": null,
            "width": null,
            "min_width": null,
            "border": null,
            "align_items": null,
            "bottom": null,
            "_model_module": "@jupyter-widgets/base",
            "top": null,
            "grid_column": null,
            "overflow_y": null,
            "overflow_x": null,
            "grid_auto_flow": null,
            "grid_area": null,
            "grid_template_columns": null,
            "flex": null,
            "_model_name": "LayoutModel",
            "justify_items": null,
            "grid_row": null,
            "max_height": null,
            "align_content": null,
            "visibility": null,
            "align_self": null,
            "height": null,
            "min_height": null,
            "padding": null,
            "grid_auto_rows": null,
            "grid_gap": null,
            "max_width": null,
            "order": null,
            "_view_module_version": "1.2.0",
            "grid_template_areas": null,
            "object_position": null,
            "object_fit": null,
            "grid_auto_columns": null,
            "margin": null,
            "display": null,
            "left": null
          },
          "model_module_version": "1.2.0"
        },
        "8ef2d8bf5c4a4639b133da4f02b4ec58": {
          "model_module": "@jupyter-widgets/controls",
          "model_name": "FloatProgressModel",
          "state": {
            "_view_name": "ProgressView",
            "style": "IPY_MODEL_37ad0c8b50cf478ab1cae8aae56daac8",
            "_dom_classes": [],
            "description": "Downloading: 100%",
            "_model_name": "FloatProgressModel",
            "bar_style": "success",
            "max": 456,
            "_view_module": "@jupyter-widgets/controls",
            "_model_module_version": "1.5.0",
            "value": 456,
            "_view_count": null,
            "_view_module_version": "1.5.0",
            "orientation": "horizontal",
            "min": 0,
            "description_tooltip": null,
            "_model_module": "@jupyter-widgets/controls",
            "layout": "IPY_MODEL_47b7380435234ce9bea22469217d57af"
          },
          "model_module_version": "1.5.0"
        },
        "8f0167bcfff044d9a6d159853244c7d1": {
          "model_module": "@jupyter-widgets/controls",
          "model_name": "HTMLModel",
          "state": {
            "_view_name": "HTMLView",
            "style": "IPY_MODEL_a2a6d15ba24b4fa485145f0e7fa68f14",
            "_dom_classes": [],
            "description": "",
            "_model_name": "HTMLModel",
            "placeholder": "​",
            "_view_module": "@jupyter-widgets/controls",
            "_model_module_version": "1.5.0",
            "value": " 456/456 [00:06&lt;00:00, 72.7B/s]",
            "_view_count": null,
            "_view_module_version": "1.5.0",
            "description_tooltip": null,
            "_model_module": "@jupyter-widgets/controls",
            "layout": "IPY_MODEL_9aca4caed0d14d02821a875fc56111ab"
          },
          "model_module_version": "1.5.0"
        },
        "37ad0c8b50cf478ab1cae8aae56daac8": {
          "model_module": "@jupyter-widgets/controls",
          "model_name": "ProgressStyleModel",
          "state": {
            "_view_name": "StyleView",
            "_model_name": "ProgressStyleModel",
            "description_width": "initial",
            "_view_module": "@jupyter-widgets/base",
            "_model_module_version": "1.5.0",
            "_view_count": null,
            "_view_module_version": "1.2.0",
            "bar_color": null,
            "_model_module": "@jupyter-widgets/controls"
          },
          "model_module_version": "1.5.0"
        },
        "47b7380435234ce9bea22469217d57af": {
          "model_module": "@jupyter-widgets/base",
          "model_name": "LayoutModel",
          "state": {
            "_view_name": "LayoutView",
            "grid_template_rows": null,
            "right": null,
            "justify_content": null,
            "_view_module": "@jupyter-widgets/base",
            "overflow": null,
            "_model_module_version": "1.2.0",
            "_view_count": null,
            "flex_flow": null,
            "width": null,
            "min_width": null,
            "border": null,
            "align_items": null,
            "bottom": null,
            "_model_module": "@jupyter-widgets/base",
            "top": null,
            "grid_column": null,
            "overflow_y": null,
            "overflow_x": null,
            "grid_auto_flow": null,
            "grid_area": null,
            "grid_template_columns": null,
            "flex": null,
            "_model_name": "LayoutModel",
            "justify_items": null,
            "grid_row": null,
            "max_height": null,
            "align_content": null,
            "visibility": null,
            "align_self": null,
            "height": null,
            "min_height": null,
            "padding": null,
            "grid_auto_rows": null,
            "grid_gap": null,
            "max_width": null,
            "order": null,
            "_view_module_version": "1.2.0",
            "grid_template_areas": null,
            "object_position": null,
            "object_fit": null,
            "grid_auto_columns": null,
            "margin": null,
            "display": null,
            "left": null
          },
          "model_module_version": "1.2.0"
        },
        "a2a6d15ba24b4fa485145f0e7fa68f14": {
          "model_module": "@jupyter-widgets/controls",
          "model_name": "DescriptionStyleModel",
          "state": {
            "_view_name": "StyleView",
            "_model_name": "DescriptionStyleModel",
            "description_width": "",
            "_view_module": "@jupyter-widgets/base",
            "_model_module_version": "1.5.0",
            "_view_count": null,
            "_view_module_version": "1.2.0",
            "_model_module": "@jupyter-widgets/controls"
          },
          "model_module_version": "1.5.0"
        },
        "9aca4caed0d14d02821a875fc56111ab": {
          "model_module": "@jupyter-widgets/base",
          "model_name": "LayoutModel",
          "state": {
            "_view_name": "LayoutView",
            "grid_template_rows": null,
            "right": null,
            "justify_content": null,
            "_view_module": "@jupyter-widgets/base",
            "overflow": null,
            "_model_module_version": "1.2.0",
            "_view_count": null,
            "flex_flow": null,
            "width": null,
            "min_width": null,
            "border": null,
            "align_items": null,
            "bottom": null,
            "_model_module": "@jupyter-widgets/base",
            "top": null,
            "grid_column": null,
            "overflow_y": null,
            "overflow_x": null,
            "grid_auto_flow": null,
            "grid_area": null,
            "grid_template_columns": null,
            "flex": null,
            "_model_name": "LayoutModel",
            "justify_items": null,
            "grid_row": null,
            "max_height": null,
            "align_content": null,
            "visibility": null,
            "align_self": null,
            "height": null,
            "min_height": null,
            "padding": null,
            "grid_auto_rows": null,
            "grid_gap": null,
            "max_width": null,
            "order": null,
            "_view_module_version": "1.2.0",
            "grid_template_areas": null,
            "object_position": null,
            "object_fit": null,
            "grid_auto_columns": null,
            "margin": null,
            "display": null,
            "left": null
          },
          "model_module_version": "1.2.0"
        },
        "98625e72c253438ba2317b4b9462ceff": {
          "model_module": "@jupyter-widgets/controls",
          "model_name": "HBoxModel",
          "state": {
            "_view_name": "HBoxView",
            "_dom_classes": [],
            "_model_name": "HBoxModel",
            "_view_module": "@jupyter-widgets/controls",
            "_model_module_version": "1.5.0",
            "_view_count": null,
            "_view_module_version": "1.5.0",
            "box_style": "",
            "layout": "IPY_MODEL_5ef60ef5768e4bf28b834faa58175368",
            "_model_module": "@jupyter-widgets/controls",
            "children": [
              "IPY_MODEL_2c0a939afe814cb1b5d0318603910d3f",
              "IPY_MODEL_007957d953274526a8a5ff86013a984c"
            ]
          },
          "model_module_version": "1.5.0"
        },
        "5ef60ef5768e4bf28b834faa58175368": {
          "model_module": "@jupyter-widgets/base",
          "model_name": "LayoutModel",
          "state": {
            "_view_name": "LayoutView",
            "grid_template_rows": null,
            "right": null,
            "justify_content": null,
            "_view_module": "@jupyter-widgets/base",
            "overflow": null,
            "_model_module_version": "1.2.0",
            "_view_count": null,
            "flex_flow": null,
            "width": null,
            "min_width": null,
            "border": null,
            "align_items": null,
            "bottom": null,
            "_model_module": "@jupyter-widgets/base",
            "top": null,
            "grid_column": null,
            "overflow_y": null,
            "overflow_x": null,
            "grid_auto_flow": null,
            "grid_area": null,
            "grid_template_columns": null,
            "flex": null,
            "_model_name": "LayoutModel",
            "justify_items": null,
            "grid_row": null,
            "max_height": null,
            "align_content": null,
            "visibility": null,
            "align_self": null,
            "height": null,
            "min_height": null,
            "padding": null,
            "grid_auto_rows": null,
            "grid_gap": null,
            "max_width": null,
            "order": null,
            "_view_module_version": "1.2.0",
            "grid_template_areas": null,
            "object_position": null,
            "object_fit": null,
            "grid_auto_columns": null,
            "margin": null,
            "display": null,
            "left": null
          },
          "model_module_version": "1.2.0"
        },
        "2c0a939afe814cb1b5d0318603910d3f": {
          "model_module": "@jupyter-widgets/controls",
          "model_name": "FloatProgressModel",
          "state": {
            "_view_name": "ProgressView",
            "style": "IPY_MODEL_3c45a2b4c9bc4d9baa6975e534ff64e9",
            "_dom_classes": [],
            "description": "Downloading: 100%",
            "_model_name": "FloatProgressModel",
            "bar_style": "success",
            "max": 441944381,
            "_view_module": "@jupyter-widgets/controls",
            "_model_module_version": "1.5.0",
            "value": 441944381,
            "_view_count": null,
            "_view_module_version": "1.5.0",
            "orientation": "horizontal",
            "min": 0,
            "description_tooltip": null,
            "_model_module": "@jupyter-widgets/controls",
            "layout": "IPY_MODEL_e4885742d8ec40738c6836102c6ef229"
          },
          "model_module_version": "1.5.0"
        },
        "007957d953274526a8a5ff86013a984c": {
          "model_module": "@jupyter-widgets/controls",
          "model_name": "HTMLModel",
          "state": {
            "_view_name": "HTMLView",
            "style": "IPY_MODEL_25d1d7cf2b6d4db7aaaa2d85f7b7688a",
            "_dom_classes": [],
            "description": "",
            "_model_name": "HTMLModel",
            "placeholder": "​",
            "_view_module": "@jupyter-widgets/controls",
            "_model_module_version": "1.5.0",
            "value": " 442M/442M [00:05&lt;00:00, 74.6MB/s]",
            "_view_count": null,
            "_view_module_version": "1.5.0",
            "description_tooltip": null,
            "_model_module": "@jupyter-widgets/controls",
            "layout": "IPY_MODEL_825611f369164b288fbd5d778fef5c8f"
          },
          "model_module_version": "1.5.0"
        },
        "3c45a2b4c9bc4d9baa6975e534ff64e9": {
          "model_module": "@jupyter-widgets/controls",
          "model_name": "ProgressStyleModel",
          "state": {
            "_view_name": "StyleView",
            "_model_name": "ProgressStyleModel",
            "description_width": "initial",
            "_view_module": "@jupyter-widgets/base",
            "_model_module_version": "1.5.0",
            "_view_count": null,
            "_view_module_version": "1.2.0",
            "bar_color": null,
            "_model_module": "@jupyter-widgets/controls"
          },
          "model_module_version": "1.5.0"
        },
        "e4885742d8ec40738c6836102c6ef229": {
          "model_module": "@jupyter-widgets/base",
          "model_name": "LayoutModel",
          "state": {
            "_view_name": "LayoutView",
            "grid_template_rows": null,
            "right": null,
            "justify_content": null,
            "_view_module": "@jupyter-widgets/base",
            "overflow": null,
            "_model_module_version": "1.2.0",
            "_view_count": null,
            "flex_flow": null,
            "width": null,
            "min_width": null,
            "border": null,
            "align_items": null,
            "bottom": null,
            "_model_module": "@jupyter-widgets/base",
            "top": null,
            "grid_column": null,
            "overflow_y": null,
            "overflow_x": null,
            "grid_auto_flow": null,
            "grid_area": null,
            "grid_template_columns": null,
            "flex": null,
            "_model_name": "LayoutModel",
            "justify_items": null,
            "grid_row": null,
            "max_height": null,
            "align_content": null,
            "visibility": null,
            "align_self": null,
            "height": null,
            "min_height": null,
            "padding": null,
            "grid_auto_rows": null,
            "grid_gap": null,
            "max_width": null,
            "order": null,
            "_view_module_version": "1.2.0",
            "grid_template_areas": null,
            "object_position": null,
            "object_fit": null,
            "grid_auto_columns": null,
            "margin": null,
            "display": null,
            "left": null
          },
          "model_module_version": "1.2.0"
        },
        "25d1d7cf2b6d4db7aaaa2d85f7b7688a": {
          "model_module": "@jupyter-widgets/controls",
          "model_name": "DescriptionStyleModel",
          "state": {
            "_view_name": "StyleView",
            "_model_name": "DescriptionStyleModel",
            "description_width": "",
            "_view_module": "@jupyter-widgets/base",
            "_model_module_version": "1.5.0",
            "_view_count": null,
            "_view_module_version": "1.2.0",
            "_model_module": "@jupyter-widgets/controls"
          },
          "model_module_version": "1.5.0"
        },
        "825611f369164b288fbd5d778fef5c8f": {
          "model_module": "@jupyter-widgets/base",
          "model_name": "LayoutModel",
          "state": {
            "_view_name": "LayoutView",
            "grid_template_rows": null,
            "right": null,
            "justify_content": null,
            "_view_module": "@jupyter-widgets/base",
            "overflow": null,
            "_model_module_version": "1.2.0",
            "_view_count": null,
            "flex_flow": null,
            "width": null,
            "min_width": null,
            "border": null,
            "align_items": null,
            "bottom": null,
            "_model_module": "@jupyter-widgets/base",
            "top": null,
            "grid_column": null,
            "overflow_y": null,
            "overflow_x": null,
            "grid_auto_flow": null,
            "grid_area": null,
            "grid_template_columns": null,
            "flex": null,
            "_model_name": "LayoutModel",
            "justify_items": null,
            "grid_row": null,
            "max_height": null,
            "align_content": null,
            "visibility": null,
            "align_self": null,
            "height": null,
            "min_height": null,
            "padding": null,
            "grid_auto_rows": null,
            "grid_gap": null,
            "max_width": null,
            "order": null,
            "_view_module_version": "1.2.0",
            "grid_template_areas": null,
            "object_position": null,
            "object_fit": null,
            "grid_auto_columns": null,
            "margin": null,
            "display": null,
            "left": null
          },
          "model_module_version": "1.2.0"
        }
      }
    }
  },
  "cells": [
    {
      "cell_type": "code",
      "metadata": {
        "id": "5NHqBz62zK-W",
        "colab": {
          "base_uri": "https://localhost:8080/",
          "height": 357
        },
        "outputId": "8388b749-c8eb-4a29-98e7-18caae03496c"
      },
      "source": [
        "!nvidia-smi"
      ],
      "execution_count": null,
      "outputs": [
        {
          "output_type": "stream",
          "text": [
            "Sun Jul 19 23:47:23 2020       \n",
            "+-----------------------------------------------------------------------------+\n",
            "| NVIDIA-SMI 450.51.05    Driver Version: 418.67       CUDA Version: 10.1     |\n",
            "|-------------------------------+----------------------+----------------------+\n",
            "| GPU  Name        Persistence-M| Bus-Id        Disp.A | Volatile Uncorr. ECC |\n",
            "| Fan  Temp  Perf  Pwr:Usage/Cap|         Memory-Usage | GPU-Util  Compute M. |\n",
            "|                               |                      |               MIG M. |\n",
            "|===============================+======================+======================|\n",
            "|   0  Tesla T4            Off  | 00000000:00:04.0 Off |                    0 |\n",
            "| N/A   47C    P8     9W /  70W |      0MiB / 15079MiB |      0%      Default |\n",
            "|                               |                      |                 ERR! |\n",
            "+-------------------------------+----------------------+----------------------+\n",
            "                                                                               \n",
            "+-----------------------------------------------------------------------------+\n",
            "| Processes:                                                                  |\n",
            "|  GPU   GI   CI        PID   Type   Process name                  GPU Memory |\n",
            "|        ID   ID                                                   Usage      |\n",
            "|=============================================================================|\n",
            "|  No running processes found                                                 |\n",
            "+-----------------------------------------------------------------------------+\n"
          ],
          "name": "stdout"
        }
      ]
    },
    {
      "cell_type": "markdown",
      "metadata": {
        "id": "5xBc96wF0LeR"
      },
      "source": [
        "INSTALAMOS LOS NECESARIO\n"
      ]
    },
    {
      "cell_type": "code",
      "metadata": {
        "id": "N2StjESU0Aqo"
      },
      "source": [
        "!pip install -q -U watermark"
      ],
      "execution_count": null,
      "outputs": []
    },
    {
      "cell_type": "code",
      "metadata": {
        "id": "KmWiqDBL0HFk",
        "colab": {
          "base_uri": "https://localhost:8080/",
          "height": 102
        },
        "outputId": "654508d5-c86e-4d75-8235-b211b7419dff"
      },
      "source": [
        "!pip install -qq transformers"
      ],
      "execution_count": null,
      "outputs": [
        {
          "output_type": "stream",
          "text": [
            "\u001b[K     |████████████████████████████████| 778kB 8.8MB/s \n",
            "\u001b[K     |████████████████████████████████| 3.0MB 44.0MB/s \n",
            "\u001b[K     |████████████████████████████████| 1.1MB 55.4MB/s \n",
            "\u001b[K     |████████████████████████████████| 890kB 54.7MB/s \n",
            "\u001b[?25h  Building wheel for sacremoses (setup.py) ... \u001b[?25l\u001b[?25hdone\n"
          ],
          "name": "stdout"
        }
      ]
    },
    {
      "cell_type": "code",
      "metadata": {
        "id": "QD07unq30KPM",
        "colab": {
          "base_uri": "https://localhost:8080/",
          "height": 136
        },
        "outputId": "badd6436-6a6f-44e7-ec06-db6b69f44f97"
      },
      "source": [
        "%reload_ext watermark\n",
        "%watermark -v -p numpy,pandas,torch,transformers"
      ],
      "execution_count": null,
      "outputs": [
        {
          "output_type": "stream",
          "text": [
            "CPython 3.6.9\n",
            "IPython 5.5.0\n",
            "\n",
            "numpy 1.18.5\n",
            "pandas 1.0.5\n",
            "torch 1.5.1+cu101\n",
            "transformers 3.0.2\n"
          ],
          "name": "stdout"
        }
      ]
    },
    {
      "cell_type": "markdown",
      "metadata": {
        "id": "brNY14vf4qOg"
      },
      "source": [
        "IMPORTAMOS LAS LIBRERIAS NECESARIAS/ALGUNOS DATOS QUE USAREMOS"
      ]
    },
    {
      "cell_type": "code",
      "metadata": {
        "id": "zwZFMpm24eGr",
        "colab": {
          "base_uri": "https://localhost:8080/",
          "height": 51
        },
        "outputId": "19e002e2-7b44-4a1c-e7d4-e6109299f24a"
      },
      "source": [
        "import transformers\n",
        "from transformers import BertModel, BertTokenizer, AdamW, get_linear_schedule_with_warmup,BertForSequenceClassification\n",
        "import torch\n",
        "import numpy as np\n",
        "import pandas as pd\n",
        "import seaborn as sns\n",
        "from pylab import rcParams\n",
        "import matplotlib.pyplot as plt\n",
        "from matplotlib import rc\n",
        "from sklearn.model_selection import train_test_split\n",
        "from sklearn.metrics import confusion_matrix, classification_report\n",
        "from collections import defaultdict\n",
        "from textwrap import wrap\n",
        "from torch import nn, optim\n",
        "from torch.utils.data import Dataset, DataLoader\n",
        "import torch.nn.functional as F # esta funcion no fue incluida\n",
        "import os\n",
        "\n",
        "sns.set(style='whitegrid', palette='muted', font_scale=1.2)\n",
        "HAPPY_COLORS_PALETTE = [\"#01BEFE\", \"#FFDD00\", \"#FF7D00\", \"#FF006D\", \"#ADFF02\", \"#8F00FF\"]\n",
        "sns.set_palette(sns.color_palette(HAPPY_COLORS_PALETTE))\n",
        "rcParams['figure.figsize'] = 12, 8\n",
        "RANDOM_SEED = 42\n",
        "np.random.seed(RANDOM_SEED)\n",
        "torch.manual_seed(RANDOM_SEED)\n",
        "device = torch.device(\"cuda:0\" if torch.cuda.is_available() else \"cpu\")"
      ],
      "execution_count": null,
      "outputs": [
        {
          "output_type": "stream",
          "text": [
            "/usr/local/lib/python3.6/dist-packages/statsmodels/tools/_testing.py:19: FutureWarning: pandas.util.testing is deprecated. Use the functions in the public API at pandas.testing instead.\n",
            "  import pandas.util.testing as tm\n"
          ],
          "name": "stderr"
        }
      ]
    },
    {
      "cell_type": "markdown",
      "metadata": {
        "id": "lLotZIJy38a-"
      },
      "source": [
        "DESCARGAMOS NUESTRAS BASE DE DATOS DE REVIEWS"
      ]
    },
    {
      "cell_type": "code",
      "metadata": {
        "id": "oWsFudRX0XC5",
        "colab": {
          "base_uri": "https://localhost:8080/",
          "height": 85
        },
        "outputId": "f2a36695-62ba-4d1e-d962-7cece73d3f15"
      },
      "source": [
        "!gdown --id 1eXcyqhvjKZpXQXplzrcFMbv_DiVSUdQQ\n",
        "#!gdown --id 1XNNpuv8CyrEsnitcA_o_ELDj1lB_ozuY"
      ],
      "execution_count": null,
      "outputs": [
        {
          "output_type": "stream",
          "text": [
            "Downloading...\n",
            "From: https://drive.google.com/uc?id=1eXcyqhvjKZpXQXplzrcFMbv_DiVSUdQQ\n",
            "To: /content/reviewsV2.csv\n",
            "7.21MB [00:00, 44.1MB/s]\n"
          ],
          "name": "stdout"
        }
      ]
    },
    {
      "cell_type": "markdown",
      "metadata": {
        "id": "ojL4KfJg5NEE"
      },
      "source": [
        "EXPLORAMOS NUESTROS DATOS"
      ]
    },
    {
      "cell_type": "code",
      "metadata": {
        "id": "HBcAa1dU5Ik-",
        "colab": {
          "base_uri": "https://localhost:8080/",
          "height": 547
        },
        "outputId": "97220e4b-fc95-4a3b-ed14-e04cc55cc493"
      },
      "source": [
        "df = pd.read_csv(\"reviewsV2.csv\")\n",
        "df.head()"
      ],
      "execution_count": null,
      "outputs": [
        {
          "output_type": "execute_result",
          "data": {
            "text/html": [
              "<div>\n",
              "<style scoped>\n",
              "    .dataframe tbody tr th:only-of-type {\n",
              "        vertical-align: middle;\n",
              "    }\n",
              "\n",
              "    .dataframe tbody tr th {\n",
              "        vertical-align: top;\n",
              "    }\n",
              "\n",
              "    .dataframe thead th {\n",
              "        text-align: right;\n",
              "    }\n",
              "</style>\n",
              "<table border=\"1\" class=\"dataframe\">\n",
              "  <thead>\n",
              "    <tr style=\"text-align: right;\">\n",
              "      <th></th>\n",
              "      <th>Unnamed: 0</th>\n",
              "      <th>reviewId</th>\n",
              "      <th>userName</th>\n",
              "      <th>userImage</th>\n",
              "      <th>content</th>\n",
              "      <th>score</th>\n",
              "      <th>thumbsUpCount</th>\n",
              "      <th>reviewCreatedVersion</th>\n",
              "      <th>at</th>\n",
              "      <th>replyContent</th>\n",
              "      <th>repliedAt</th>\n",
              "      <th>sortOrder</th>\n",
              "      <th>appId</th>\n",
              "      <th>Unnamed: 12</th>\n",
              "      <th>Unnamed: 13</th>\n",
              "    </tr>\n",
              "  </thead>\n",
              "  <tbody>\n",
              "    <tr>\n",
              "      <th>0</th>\n",
              "      <td>0</td>\n",
              "      <td>gp:AOqpTOH4B-QZyWwoqUcGFpdcZtTM7IH-LLXi27wVA1y...</td>\n",
              "      <td>alexis cazares</td>\n",
              "      <td>https://lh3.googleusercontent.com/-O9lnImjLpdY...</td>\n",
              "      <td>Con la actualización, no me deja acceder a mi ...</td>\n",
              "      <td>1</td>\n",
              "      <td>13921.0</td>\n",
              "      <td>6.0.022.02.45</td>\n",
              "      <td>2020-02-24 17:52:25</td>\n",
              "      <td>NaN</td>\n",
              "      <td>NaN</td>\n",
              "      <td>most_relevant</td>\n",
              "      <td>com.google.android.apps.classroom</td>\n",
              "      <td>NaN</td>\n",
              "      <td>NaN</td>\n",
              "    </tr>\n",
              "    <tr>\n",
              "      <th>1</th>\n",
              "      <td>1</td>\n",
              "      <td>gp:AOqpTOGRJrkVPTyauYWt8h4hemaO6JNq2c3wvHzVtXN...</td>\n",
              "      <td>Aida Rus</td>\n",
              "      <td>https://lh3.googleusercontent.com/a-/AOh14Gjvh...</td>\n",
              "      <td>No me deja acceder con el correo institucional...</td>\n",
              "      <td>1</td>\n",
              "      <td>3429.0</td>\n",
              "      <td>6.0.022.02.40</td>\n",
              "      <td>2020-02-01 07:21:33</td>\n",
              "      <td>NaN</td>\n",
              "      <td>NaN</td>\n",
              "      <td>most_relevant</td>\n",
              "      <td>com.google.android.apps.classroom</td>\n",
              "      <td>NaN</td>\n",
              "      <td>NaN</td>\n",
              "    </tr>\n",
              "    <tr>\n",
              "      <th>2</th>\n",
              "      <td>2</td>\n",
              "      <td>gp:AOqpTOF_sJHyGpjz3mtFe_XISIVDelffHIAamcKpTGC...</td>\n",
              "      <td>Alexis Ven</td>\n",
              "      <td>https://lh3.googleusercontent.com/-ok0eZU2YcyA...</td>\n",
              "      <td>Se me hace fastidioso usar esta app cuando hay...</td>\n",
              "      <td>1</td>\n",
              "      <td>3727.0</td>\n",
              "      <td>6.4.181.03.30</td>\n",
              "      <td>2020-05-28 09:09:01</td>\n",
              "      <td>NaN</td>\n",
              "      <td>NaN</td>\n",
              "      <td>most_relevant</td>\n",
              "      <td>com.google.android.apps.classroom</td>\n",
              "      <td>NaN</td>\n",
              "      <td>NaN</td>\n",
              "    </tr>\n",
              "    <tr>\n",
              "      <th>3</th>\n",
              "      <td>3</td>\n",
              "      <td>gp:AOqpTOEKZZC0vvbdR96SbSIzUt-DMlOe-FCU5QJr2fu...</td>\n",
              "      <td>najwaa_ 96</td>\n",
              "      <td>https://lh3.googleusercontent.com/-J7KHIad9syg...</td>\n",
              "      <td>La peor aplicación del mundo, y lo mejor que p...</td>\n",
              "      <td>1</td>\n",
              "      <td>3076.0</td>\n",
              "      <td>6.4.181.03.44</td>\n",
              "      <td>2020-06-03 06:26:08</td>\n",
              "      <td>NaN</td>\n",
              "      <td>NaN</td>\n",
              "      <td>most_relevant</td>\n",
              "      <td>com.google.android.apps.classroom</td>\n",
              "      <td>NaN</td>\n",
              "      <td>NaN</td>\n",
              "    </tr>\n",
              "    <tr>\n",
              "      <th>4</th>\n",
              "      <td>4</td>\n",
              "      <td>gp:AOqpTOHHU-NyjzITN0i0dm9XDMC1DNn_uppNiQsk72t...</td>\n",
              "      <td>The Eoster</td>\n",
              "      <td>https://lh3.googleusercontent.com/a-/AOh14GhOv...</td>\n",
              "      <td>No me deja entrar desde que se actualizo... Ar...</td>\n",
              "      <td>1</td>\n",
              "      <td>3100.0</td>\n",
              "      <td>6.0.022.05.45c</td>\n",
              "      <td>2020-02-23 23:25:55</td>\n",
              "      <td>NaN</td>\n",
              "      <td>NaN</td>\n",
              "      <td>most_relevant</td>\n",
              "      <td>com.google.android.apps.classroom</td>\n",
              "      <td>NaN</td>\n",
              "      <td>NaN</td>\n",
              "    </tr>\n",
              "  </tbody>\n",
              "</table>\n",
              "</div>"
            ],
            "text/plain": [
              "   Unnamed: 0  ... Unnamed: 13\n",
              "0           0  ...         NaN\n",
              "1           1  ...         NaN\n",
              "2           2  ...         NaN\n",
              "3           3  ...         NaN\n",
              "4           4  ...         NaN\n",
              "\n",
              "[5 rows x 15 columns]"
            ]
          },
          "metadata": {
            "tags": []
          },
          "execution_count": 8
        }
      ]
    },
    {
      "cell_type": "code",
      "metadata": {
        "id": "b9kdm4sJ5U1e",
        "colab": {
          "base_uri": "https://localhost:8080/",
          "height": 386
        },
        "outputId": "2fc617dc-89dc-48a3-df16-fc153aa12726"
      },
      "source": [
        "df.shape # LAS DIMENSIONES DE NEUSTROS DATOS\n",
        "df.info() # LA INFORMACION COMO LOS CAMPOS"
      ],
      "execution_count": null,
      "outputs": [
        {
          "output_type": "stream",
          "text": [
            "<class 'pandas.core.frame.DataFrame'>\n",
            "RangeIndex: 15985 entries, 0 to 15984\n",
            "Data columns (total 15 columns):\n",
            " #   Column                Non-Null Count  Dtype  \n",
            "---  ------                --------------  -----  \n",
            " 0   Unnamed: 0            15985 non-null  int64  \n",
            " 1   reviewId              15985 non-null  object \n",
            " 2   userName              15985 non-null  object \n",
            " 3   userImage             15985 non-null  object \n",
            " 4   content               15985 non-null  object \n",
            " 5   score                 15985 non-null  int64  \n",
            " 6   thumbsUpCount         15984 non-null  float64\n",
            " 7   reviewCreatedVersion  12635 non-null  object \n",
            " 8   at                    15985 non-null  object \n",
            " 9   replyContent          3640 non-null   object \n",
            " 10  repliedAt             3638 non-null   object \n",
            " 11  sortOrder             15982 non-null  object \n",
            " 12  appId                 15984 non-null  object \n",
            " 13  Unnamed: 12           24 non-null     object \n",
            " 14  Unnamed: 13           3 non-null      object \n",
            "dtypes: float64(1), int64(2), object(12)\n",
            "memory usage: 1.8+ MB\n"
          ],
          "name": "stdout"
        }
      ]
    },
    {
      "cell_type": "markdown",
      "metadata": {
        "id": "31uO0Ga750cm"
      },
      "source": [
        "VEMOS NUESTROS DATOS"
      ]
    },
    {
      "cell_type": "code",
      "metadata": {
        "id": "XLq9AWZr5gLV",
        "colab": {
          "base_uri": "https://localhost:8080/",
          "height": 506
        },
        "outputId": "916b2693-d6f6-4240-f60d-667b4e638b02"
      },
      "source": [
        "sns.countplot(df.score)\n",
        "plt.xlabel('review score');"
      ],
      "execution_count": null,
      "outputs": [
        {
          "output_type": "display_data",
          "data": {
            "image/png": "[encoded data removed]",
            "text/plain": [
              "<Figure size 864x576 with 1 Axes>"
            ]
          },
          "metadata": {
            "tags": []
          }
        }
      ]
    },
    {
      "cell_type": "markdown",
      "metadata": {
        "id": "8rS9U3jM6OD1"
      },
      "source": [
        "CONVERTIMOS NUESTROS DATOS"
      ]
    },
    {
      "cell_type": "code",
      "metadata": {
        "id": "XhJsH3I650Mt"
      },
      "source": [
        "def to_sentiment(rating):\n",
        "  rating = int(rating)\n",
        "  if rating <= 2:\n",
        "    return 0\n",
        "  elif rating == 3:\n",
        "    return 1\n",
        "  else:\n",
        "    return 2\n",
        "\n",
        "df['sentiment'] = df.score.apply(to_sentiment)\n"
      ],
      "execution_count": null,
      "outputs": []
    },
    {
      "cell_type": "code",
      "metadata": {
        "id": "NO_j1f026CLr"
      },
      "source": [
        "class_names = ['Negativo', 'Neutral', 'Positivo']"
      ],
      "execution_count": null,
      "outputs": []
    },
    {
      "cell_type": "code",
      "metadata": {
        "id": "MRr1gp_G6C6u",
        "colab": {
          "base_uri": "https://localhost:8080/",
          "height": 506
        },
        "outputId": "5cc2e1a8-050b-4262-c4cc-bb24248cda42"
      },
      "source": [
        "ax = sns.countplot(df.sentiment)\n",
        "plt.xlabel('Sentimiento del comentario')\n",
        "ax.set_xticklabels(class_names);"
      ],
      "execution_count": null,
      "outputs": [
        {
          "output_type": "display_data",
          "data": {
            "image/png": "[encoded data removed]",
            "text/plain": [
              "<Figure size 864x576 with 1 Axes>"
            ]
          },
          "metadata": {
            "tags": []
          }
        }
      ]
    },
    {
      "cell_type": "code",
      "metadata": {
        "id": "wLNqObCN6Yw6"
      },
      "source": [],
      "execution_count": null,
      "outputs": []
    },
    {
      "cell_type": "markdown",
      "metadata": {
        "id": "41iZ7hM_6c9R"
      },
      "source": [
        "# PROCESAMIENTO DE NUESTROS DATOS"
      ]
    },
    {
      "cell_type": "markdown",
      "metadata": {
        "id": "my3PDXfk6kfx"
      },
      "source": [
        "Cargamos nuestro modelo/ usaremos el modelo beto"
      ]
    },
    {
      "cell_type": "code",
      "metadata": {
        "id": "h2pn8wsv6sH5"
      },
      "source": [
        "PRE_TRAINED_MODEL_NAME = 'dccuchile/bert-base-spanish-wwm-cased'\n"
      ],
      "execution_count": null,
      "outputs": []
    },
    {
      "cell_type": "code",
      "metadata": {
        "id": "rgxNNZ3m67Cx"
      },
      "source": [
        "tokenizer = BertTokenizer.from_pretrained(PRE_TRAINED_MODEL_NAME)"
      ],
      "execution_count": null,
      "outputs": []
    },
    {
      "cell_type": "markdown",
      "metadata": {
        "id": "btDsoJIs7AM_"
      },
      "source": []
    },
    {
      "cell_type": "code",
      "metadata": {
        "id": "X_2Qu7TK7BI7",
        "colab": {
          "base_uri": "https://localhost:8080/",
          "height": 67
        },
        "outputId": "5cfafb54-2617-49a2-86a8-1f22063ae291"
      },
      "source": [
        "sample_txt = 'Mi nombre es juan y soy de Peru.'\n",
        "tokens = tokenizer.tokenize(sample_txt)\n",
        "token_ids = tokenizer.convert_tokens_to_ids(tokens)\n",
        "\n",
        "print(f' Sentence: {sample_txt}')\n",
        "print(f'   Tokens: {tokens}')\n",
        "print(f'Token IDs: {token_ids}')"
      ],
      "execution_count": null,
      "outputs": [
        {
          "output_type": "stream",
          "text": [
            " Sentence: Mi nombre es juan y soy de Peru.\n",
            "   Tokens: ['Mi', 'nombre', 'es', 'ju', '##an', 'y', 'soy', 'de', 'Per', '##u', '.']\n",
            "Token IDs: [1451, 1952, 1058, 1588, 1026, 1042, 2020, 1008, 1977, 30942, 1009]\n"
          ],
          "name": "stdout"
        }
      ]
    },
    {
      "cell_type": "code",
      "metadata": {
        "id": "orPf4j-u7UM4",
        "colab": {
          "base_uri": "https://localhost:8080/",
          "height": 34
        },
        "outputId": "d36ebf43-5d4b-4c9c-814f-aac7e88e9fb2"
      },
      "source": [
        "tokenizer.sep_token, tokenizer.sep_token_id,tokenizer.cls_token, tokenizer.cls_token_id,tokenizer.pad_token, tokenizer.pad_token_id,tokenizer.unk_token, tokenizer.unk_token_id"
      ],
      "execution_count": null,
      "outputs": [
        {
          "output_type": "execute_result",
          "data": {
            "text/plain": [
              "('[SEP]', 5, '[CLS]', 4, '[PAD]', 1, '[UNK]', 3)"
            ]
          },
          "metadata": {
            "tags": []
          },
          "execution_count": 67
        }
      ]
    },
    {
      "cell_type": "code",
      "metadata": {
        "id": "VUoQb_ck7l-9",
        "colab": {
          "base_uri": "https://localhost:8080/",
          "height": 34
        },
        "outputId": "cde6e1ad-114c-444d-f751-5d741871ee7a"
      },
      "source": [
        "#necesitmoas tulizar la forma en como bert recibe nuestros reviews\n",
        "encoding = tokenizer.encode_plus(\n",
        "  sample_txt,\n",
        "  max_length=32,\n",
        "  truncation=True,\n",
        "  add_special_tokens=True, # Add '[CLS]' and '[SEP]'\n",
        "  return_token_type_ids=False,\n",
        "  pad_to_max_length=True,\n",
        "  return_attention_mask=True,\n",
        "  return_tensors='pt',  # Return PyTorch tensors\n",
        ")\n",
        "\n",
        "encoding.keys()"
      ],
      "execution_count": null,
      "outputs": [
        {
          "output_type": "execute_result",
          "data": {
            "text/plain": [
              "dict_keys(['input_ids', 'attention_mask'])"
            ]
          },
          "metadata": {
            "tags": []
          },
          "execution_count": 69
        }
      ]
    },
    {
      "cell_type": "code",
      "metadata": {
        "id": "2yVKAYqB71WS",
        "colab": {
          "base_uri": "https://localhost:8080/",
          "height": 101
        },
        "outputId": "40c6717f-bf0f-49ba-9325-2bc4b9d8a9e6"
      },
      "source": [
        "print(len(encoding['input_ids'][0]))\n",
        "encoding['input_ids'][0]"
      ],
      "execution_count": null,
      "outputs": [
        {
          "output_type": "stream",
          "text": [
            "32\n"
          ],
          "name": "stdout"
        },
        {
          "output_type": "execute_result",
          "data": {
            "text/plain": [
              "tensor([    4,  1451,  1952,  1058,  1588,  1026,  1042,  2020,  1008,  1977,\n",
              "        30942,  1009,     5,     1,     1,     1,     1,     1,     1,     1,\n",
              "            1,     1,     1,     1,     1,     1,     1,     1,     1,     1,\n",
              "            1,     1])"
            ]
          },
          "metadata": {
            "tags": []
          },
          "execution_count": 70
        }
      ]
    },
    {
      "cell_type": "code",
      "metadata": {
        "id": "6rzlQt2879sm",
        "colab": {
          "base_uri": "https://localhost:8080/",
          "height": 67
        },
        "outputId": "f01209f0-6d58-4292-cfc2-14bd0b5d132d"
      },
      "source": [
        "print(len(encoding['attention_mask'][0]))\n",
        "encoding['attention_mask']"
      ],
      "execution_count": null,
      "outputs": [
        {
          "output_type": "stream",
          "text": [
            "32\n"
          ],
          "name": "stdout"
        },
        {
          "output_type": "execute_result",
          "data": {
            "text/plain": [
              "tensor([[1, 1, 1, 1, 1, 1, 1, 1, 1, 1, 1, 1, 1, 0, 0, 0, 0, 0, 0, 0, 0, 0, 0, 0,\n",
              "         0, 0, 0, 0, 0, 0, 0, 0]])"
            ]
          },
          "metadata": {
            "tags": []
          },
          "execution_count": 71
        }
      ]
    },
    {
      "cell_type": "code",
      "metadata": {
        "id": "41O4MavO8CL2",
        "colab": {
          "base_uri": "https://localhost:8080/",
          "height": 554
        },
        "outputId": "bf675a3e-9165-4e95-8392-a34ed922dfaf"
      },
      "source": [
        "tokenizer.convert_ids_to_tokens(encoding['input_ids'][0])"
      ],
      "execution_count": null,
      "outputs": [
        {
          "output_type": "execute_result",
          "data": {
            "text/plain": [
              "['[CLS]',\n",
              " 'Mi',\n",
              " 'nombre',\n",
              " 'es',\n",
              " 'ju',\n",
              " '##an',\n",
              " 'y',\n",
              " 'soy',\n",
              " 'de',\n",
              " 'Per',\n",
              " '##u',\n",
              " '.',\n",
              " '[SEP]',\n",
              " '[PAD]',\n",
              " '[PAD]',\n",
              " '[PAD]',\n",
              " '[PAD]',\n",
              " '[PAD]',\n",
              " '[PAD]',\n",
              " '[PAD]',\n",
              " '[PAD]',\n",
              " '[PAD]',\n",
              " '[PAD]',\n",
              " '[PAD]',\n",
              " '[PAD]',\n",
              " '[PAD]',\n",
              " '[PAD]',\n",
              " '[PAD]',\n",
              " '[PAD]',\n",
              " '[PAD]',\n",
              " '[PAD]',\n",
              " '[PAD]']"
            ]
          },
          "metadata": {
            "tags": []
          },
          "execution_count": 72
        }
      ]
    },
    {
      "cell_type": "markdown",
      "metadata": {
        "id": "QdSSvUy08M95"
      },
      "source": [
        "Buscamos la mayor logintud dentro de nuestros reviews"
      ]
    },
    {
      "cell_type": "code",
      "metadata": {
        "id": "3M3E58Sd8CAT"
      },
      "source": [
        "token_lens = []\n",
        "\n",
        "for txt in df.content:\n",
        "  tokens = tokenizer.encode(txt, max_length=512,truncation=True)\n",
        "  token_lens.append(len(tokens))"
      ],
      "execution_count": null,
      "outputs": []
    },
    {
      "cell_type": "code",
      "metadata": {
        "id": "wjEhiM-P8SSd",
        "colab": {
          "base_uri": "https://localhost:8080/",
          "height": 506
        },
        "outputId": "43133e4b-70d6-494b-d43a-61205aa18664"
      },
      "source": [
        "sns.distplot(token_lens)\n",
        "plt.xlim([0, 256]);\n",
        "plt.xlabel('Token count');"
      ],
      "execution_count": null,
      "outputs": [
        {
          "output_type": "display_data",
          "data": {
            "image/png": "[encoded data removed]",
            "text/plain": [
              "<Figure size 864x576 with 1 Axes>"
            ]
          },
          "metadata": {
            "tags": []
          }
        }
      ]
    },
    {
      "cell_type": "code",
      "metadata": {
        "id": "yt4Bfd8R8UJt"
      },
      "source": [
        "MAX_LEN = 160"
      ],
      "execution_count": null,
      "outputs": []
    },
    {
      "cell_type": "code",
      "metadata": {
        "id": "JFlC90Kz8XPx"
      },
      "source": [
        "class GPReviewDataset(Dataset):\n",
        "\n",
        "  def __init__(self, reviews, targets, tokenizer, max_len):\n",
        "    self.reviews = reviews\n",
        "    self.targets = targets\n",
        "    self.tokenizer = tokenizer\n",
        "    self.max_len = max_len\n",
        "\n",
        "  def __len__(self):\n",
        "    return len(self.reviews)\n",
        "\n",
        "  def __getitem__(self, item):\n",
        "    review = str(self.reviews[item])\n",
        "    target = self.targets[item]\n",
        "\n",
        "    encoding = self.tokenizer.encode_plus(\n",
        "      review,\n",
        "      add_special_tokens=True,\n",
        "      max_length=self.max_len,\n",
        "      truncation=True,\n",
        "      return_token_type_ids=False,\n",
        "      pad_to_max_length=True,\n",
        "      return_attention_mask=True,\n",
        "      return_tensors='pt',\n",
        "    )\n",
        "\n",
        "    return {\n",
        "      'review_text': review,\n",
        "      'input_ids': encoding['input_ids'].flatten(),\n",
        "      'attention_mask': encoding['attention_mask'].flatten(),\n",
        "      'targets': torch.tensor(target, dtype=torch.long)\n",
        "    }"
      ],
      "execution_count": null,
      "outputs": []
    },
    {
      "cell_type": "code",
      "metadata": {
        "id": "aQNIH40W8cFJ"
      },
      "source": [
        "df_train, df_test = train_test_split(df, test_size=0.1, random_state=RANDOM_SEED)\n",
        "df_val, df_test = train_test_split(df_test, test_size=0.5, random_state=RANDOM_SEED)"
      ],
      "execution_count": null,
      "outputs": []
    },
    {
      "cell_type": "code",
      "metadata": {
        "id": "G5R4vDXI8hzG",
        "colab": {
          "base_uri": "https://localhost:8080/",
          "height": 34
        },
        "outputId": "b885b657-5ed8-4dcd-ef07-ec76426164ce"
      },
      "source": [
        "df_train.shape, df_val.shape, df_test.shape"
      ],
      "execution_count": null,
      "outputs": [
        {
          "output_type": "execute_result",
          "data": {
            "text/plain": [
              "((14386, 16), (799, 16), (800, 16))"
            ]
          },
          "metadata": {
            "tags": []
          },
          "execution_count": 84
        }
      ]
    },
    {
      "cell_type": "code",
      "metadata": {
        "id": "w_MzN8da8qgF"
      },
      "source": [
        "def create_data_loader(df, tokenizer, max_len, batch_size):\n",
        "  ds = GPReviewDataset(\n",
        "    reviews=df.content.to_numpy(),\n",
        "    targets=df.sentiment.to_numpy(),\n",
        "    tokenizer=tokenizer,\n",
        "    max_len=max_len\n",
        "  )\n",
        "\n",
        "  return DataLoader(\n",
        "    ds,\n",
        "    batch_size=batch_size,\n",
        "    num_workers=4\n",
        "  )"
      ],
      "execution_count": null,
      "outputs": []
    },
    {
      "cell_type": "code",
      "metadata": {
        "id": "LuayLUra8sJm"
      },
      "source": [
        "BATCH_SIZE = 16\n",
        "\n",
        "train_data_loader = create_data_loader(df_train, tokenizer, MAX_LEN, BATCH_SIZE)\n",
        "val_data_loader = create_data_loader(df_val, tokenizer, MAX_LEN, BATCH_SIZE)\n",
        "test_data_loader = create_data_loader(df_test, tokenizer, MAX_LEN, BATCH_SIZE)"
      ],
      "execution_count": null,
      "outputs": []
    },
    {
      "cell_type": "code",
      "metadata": {
        "id": "sNB_pn848v8n",
        "colab": {
          "base_uri": "https://localhost:8080/",
          "height": 34
        },
        "outputId": "cc372293-7771-42df-98d3-585cce9fa499"
      },
      "source": [
        "data = next(iter(train_data_loader))\n",
        "data.keys()"
      ],
      "execution_count": null,
      "outputs": [
        {
          "output_type": "execute_result",
          "data": {
            "text/plain": [
              "dict_keys(['review_text', 'input_ids', 'attention_mask', 'targets'])"
            ]
          },
          "metadata": {
            "tags": []
          },
          "execution_count": 87
        }
      ]
    },
    {
      "cell_type": "code",
      "metadata": {
        "id": "-W_ptyG-8zJS",
        "colab": {
          "base_uri": "https://localhost:8080/",
          "height": 67
        },
        "outputId": "529f210a-6a43-49d3-fd4b-018e78491aac"
      },
      "source": [
        "print(data['input_ids'].shape)\n",
        "print(data['attention_mask'].shape)\n",
        "print(data['targets'].shape)"
      ],
      "execution_count": null,
      "outputs": [
        {
          "output_type": "stream",
          "text": [
            "torch.Size([16, 160])\n",
            "torch.Size([16, 160])\n",
            "torch.Size([16])\n"
          ],
          "name": "stdout"
        }
      ]
    },
    {
      "cell_type": "markdown",
      "metadata": {
        "id": "psxMkDsb83rc"
      },
      "source": [
        "# ANALISIS DE SENTIMIENTO CON BERT"
      ]
    },
    {
      "cell_type": "code",
      "metadata": {
        "id": "Yy8uajCL81iy",
        "colab": {
          "base_uri": "https://localhost:8080/",
          "height": 114,
          "referenced_widgets": [
            "83d5d99129824af6bdfd36f5c17fbcaf",
            "f81b84d39b5c4fb09aad25bc04940000",
            "8ef2d8bf5c4a4639b133da4f02b4ec58",
            "8f0167bcfff044d9a6d159853244c7d1",
            "37ad0c8b50cf478ab1cae8aae56daac8",
            "47b7380435234ce9bea22469217d57af",
            "a2a6d15ba24b4fa485145f0e7fa68f14",
            "9aca4caed0d14d02821a875fc56111ab",
            "98625e72c253438ba2317b4b9462ceff",
            "5ef60ef5768e4bf28b834faa58175368",
            "2c0a939afe814cb1b5d0318603910d3f",
            "007957d953274526a8a5ff86013a984c",
            "3c45a2b4c9bc4d9baa6975e534ff64e9",
            "e4885742d8ec40738c6836102c6ef229",
            "25d1d7cf2b6d4db7aaaa2d85f7b7688a",
            "825611f369164b288fbd5d778fef5c8f"
          ]
        },
        "outputId": "71cfd049-5dea-4615-c910-a411d9a93226"
      },
      "source": [
        "bert_model = BertModel.from_pretrained(PRE_TRAINED_MODEL_NAME)"
      ],
      "execution_count": null,
      "outputs": [
        {
          "output_type": "display_data",
          "data": {
            "application/vnd.jupyter.widget-view+json": {
              "model_id": "83d5d99129824af6bdfd36f5c17fbcaf",
              "version_minor": 0,
              "version_major": 2
            },
            "text/plain": [
              "HBox(children=(FloatProgress(value=0.0, description='Downloading', max=456.0, style=ProgressStyle(description_…"
            ]
          },
          "metadata": {
            "tags": []
          }
        },
        {
          "output_type": "stream",
          "text": [
            "\n"
          ],
          "name": "stdout"
        },
        {
          "output_type": "display_data",
          "data": {
            "application/vnd.jupyter.widget-view+json": {
              "model_id": "98625e72c253438ba2317b4b9462ceff",
              "version_minor": 0,
              "version_major": 2
            },
            "text/plain": [
              "HBox(children=(FloatProgress(value=0.0, description='Downloading', max=441944381.0, style=ProgressStyle(descri…"
            ]
          },
          "metadata": {
            "tags": []
          }
        },
        {
          "output_type": "stream",
          "text": [
            "\n"
          ],
          "name": "stdout"
        }
      ]
    },
    {
      "cell_type": "code",
      "metadata": {
        "id": "_-1g51Le9cb3"
      },
      "source": [
        "last_hidden_state, pooled_output = bert_model(\n",
        "  input_ids=encoding['input_ids'],\n",
        "  attention_mask=encoding['attention_mask']\n",
        ")"
      ],
      "execution_count": null,
      "outputs": []
    },
    {
      "cell_type": "code",
      "metadata": {
        "id": "LA6TA40Q9eDy",
        "colab": {
          "base_uri": "https://localhost:8080/",
          "height": 67
        },
        "outputId": "7d7263c9-5f78-47d7-870c-27b5956d8562"
      },
      "source": [
        "print(last_hidden_state.shape)\n",
        "print(bert_model.config.hidden_size)\n",
        "print(pooled_output.shape)"
      ],
      "execution_count": null,
      "outputs": [
        {
          "output_type": "stream",
          "text": [
            "torch.Size([1, 32, 768])\n",
            "768\n",
            "torch.Size([1, 768])\n"
          ],
          "name": "stdout"
        }
      ]
    },
    {
      "cell_type": "markdown",
      "metadata": {
        "id": "FgqK7eF89Ylz"
      },
      "source": [
        "Creamos nuestra clase que sera la encargada de el mannejo\n"
      ]
    },
    {
      "cell_type": "code",
      "metadata": {
        "id": "SpuJOBw990fd"
      },
      "source": [
        "class SentimentClassifier(nn.Module):\n",
        "\n",
        "  def __init__(self, n_classes):\n",
        "    super(SentimentClassifier, self).__init__()\n",
        "    self.bert = BertModel.from_pretrained(PRE_TRAINED_MODEL_NAME)\n",
        "    self.drop = nn.Dropout(p=0.3)\n",
        "    self.out = nn.Linear(self.bert.config.hidden_size, n_classes)\n",
        "\n",
        "  def forward(self, input_ids, attention_mask):\n",
        "    _, pooled_output = self.bert(\n",
        "      input_ids=input_ids,\n",
        "      attention_mask=attention_mask\n",
        "    )\n",
        "    output = self.drop(pooled_output)\n",
        "    return self.out(output)"
      ],
      "execution_count": null,
      "outputs": []
    },
    {
      "cell_type": "code",
      "metadata": {
        "id": "YirY1-w196QG"
      },
      "source": [
        "model = SentimentClassifier(len(class_names))\n",
        "model = model.to(device)"
      ],
      "execution_count": null,
      "outputs": []
    },
    {
      "cell_type": "code",
      "metadata": {
        "id": "YvFNKIA6-Ht7",
        "colab": {
          "base_uri": "https://localhost:8080/",
          "height": 50
        },
        "outputId": "4abf5756-b0e5-42f0-ec1d-32c69a260b64"
      },
      "source": [
        "input_ids = data['input_ids'].to(device)\n",
        "attention_mask = data['attention_mask'].to(device)\n",
        "\n",
        "print(input_ids.shape)\n",
        "print(attention_mask.shape)\n"
      ],
      "execution_count": null,
      "outputs": [
        {
          "output_type": "stream",
          "text": [
            "torch.Size([16, 160])\n",
            "torch.Size([16, 160])\n"
          ],
          "name": "stdout"
        }
      ]
    },
    {
      "cell_type": "markdown",
      "metadata": {
        "id": "TshipypO-QEY"
      },
      "source": [
        "Obtenemos la probabilidades utilizando softmax en la salida"
      ]
    },
    {
      "cell_type": "code",
      "metadata": {
        "id": "uwFCisNw-QWR",
        "colab": {
          "base_uri": "https://localhost:8080/",
          "height": 286
        },
        "outputId": "61ca2ac2-9a4b-438f-bd64-593e3e9076ad"
      },
      "source": [
        "F.softmax(model(input_ids, attention_mask), dim=1)"
      ],
      "execution_count": null,
      "outputs": [
        {
          "output_type": "execute_result",
          "data": {
            "text/plain": [
              "tensor([[0.2941, 0.5417, 0.1642],\n",
              "        [0.3175, 0.4186, 0.2639],\n",
              "        [0.3394, 0.4969, 0.1637],\n",
              "        [0.3988, 0.4367, 0.1645],\n",
              "        [0.3651, 0.4043, 0.2306],\n",
              "        [0.3906, 0.3781, 0.2312],\n",
              "        [0.3522, 0.3750, 0.2728],\n",
              "        [0.2917, 0.5076, 0.2007],\n",
              "        [0.2016, 0.6222, 0.1762],\n",
              "        [0.4431, 0.4133, 0.1436],\n",
              "        [0.3121, 0.3339, 0.3540],\n",
              "        [0.2216, 0.6959, 0.0825],\n",
              "        [0.4092, 0.3221, 0.2688],\n",
              "        [0.4622, 0.3084, 0.2294],\n",
              "        [0.3800, 0.4120, 0.2080],\n",
              "        [0.2600, 0.5262, 0.2138]], device='cuda:0', grad_fn=<SoftmaxBackward>)"
            ]
          },
          "metadata": {
            "tags": []
          },
          "execution_count": 95
        }
      ]
    },
    {
      "cell_type": "markdown",
      "metadata": {
        "id": "PMvTbbSo-bXR"
      },
      "source": [
        "**ENTRENAMIENTO**"
      ]
    },
    {
      "cell_type": "code",
      "metadata": {
        "id": "WV33nS-a-YbD"
      },
      "source": [
        "EPOCHS = 11 # la documentacion señala que lo ideal es 3 a 4 epocas pero haremos las pruebas\n",
        "\n",
        "optimizer = AdamW(model.parameters(), lr=2e-5, correct_bias=False)\n",
        "total_steps = len(train_data_loader) * EPOCHS\n",
        "\n",
        "scheduler = get_linear_schedule_with_warmup(\n",
        "  optimizer,\n",
        "  num_warmup_steps=0,\n",
        "  num_training_steps=total_steps\n",
        ")\n",
        "\n",
        "loss_fn = nn.CrossEntropyLoss().to(device)"
      ],
      "execution_count": null,
      "outputs": []
    },
    {
      "cell_type": "markdown",
      "metadata": {
        "id": "wP52ZYNR-s7Y"
      },
      "source": [
        "\n",
        "Se recomienda los siguientes datos segun la documentacion:\n",
        "1.   Batch size: 16, 32\n",
        "2.   Learning rate (Adam): 5e-5, 3e-5, 2e-5\n",
        "3.   Number of epochs: 2, 3, 4\n",
        "\n",
        "\n",
        "\n",
        "\n",
        "\n",
        "\n"
      ]
    },
    {
      "cell_type": "code",
      "metadata": {
        "id": "zv6x_Vol-mpN"
      },
      "source": [
        "def train_epoch(\n",
        "  model,\n",
        "  data_loader,\n",
        "  loss_fn,\n",
        "  optimizer,\n",
        "  device,\n",
        "  scheduler,\n",
        "  n_examples\n",
        "):\n",
        "  model = model.train()\n",
        "\n",
        "  losses = []\n",
        "  correct_predictions = 0\n",
        "\n",
        "  for d in data_loader:\n",
        "    input_ids = d[\"input_ids\"].to(device)\n",
        "    attention_mask = d[\"attention_mask\"].to(device)\n",
        "    targets = d[\"targets\"].to(device)\n",
        "\n",
        "    outputs = model(\n",
        "      input_ids=input_ids,\n",
        "      attention_mask=attention_mask\n",
        "    )\n",
        "\n",
        "    _, preds = torch.max(outputs, dim=1)\n",
        "    loss = loss_fn(outputs, targets)\n",
        "\n",
        "    correct_predictions += torch.sum(preds == targets)\n",
        "    losses.append(loss.item())\n",
        "\n",
        "    loss.backward()\n",
        "    nn.utils.clip_grad_norm_(model.parameters(), max_norm=1.0)\n",
        "    optimizer.step()\n",
        "    scheduler.step()\n",
        "    optimizer.zero_grad()\n",
        "\n",
        "  return correct_predictions.double() / n_examples, np.mean(losses)"
      ],
      "execution_count": null,
      "outputs": []
    },
    {
      "cell_type": "markdown",
      "metadata": {
        "id": "4H7wGxgB_K1G"
      },
      "source": [
        "Funcion para evaluar nuestro modelo"
      ]
    },
    {
      "cell_type": "code",
      "metadata": {
        "id": "Dvm6MBCa_IMk"
      },
      "source": [
        "def eval_model(model, data_loader, loss_fn, device, n_examples):\n",
        "  model = model.eval()\n",
        "\n",
        "  losses = []\n",
        "  correct_predictions = 0\n",
        "\n",
        "  with torch.no_grad():\n",
        "    for d in data_loader:\n",
        "      input_ids = d[\"input_ids\"].to(device)\n",
        "      attention_mask = d[\"attention_mask\"].to(device)\n",
        "      targets = d[\"targets\"].to(device)\n",
        "\n",
        "      outputs = model(\n",
        "        input_ids=input_ids,\n",
        "        attention_mask=attention_mask\n",
        "      )\n",
        "      _, preds = torch.max(outputs, dim=1)\n",
        "\n",
        "      loss = loss_fn(outputs, targets)\n",
        "\n",
        "      correct_predictions += torch.sum(preds == targets)\n",
        "      losses.append(loss.item())\n",
        "\n",
        "  return correct_predictions.double() / n_examples, np.mean(losses)"
      ],
      "execution_count": null,
      "outputs": []
    },
    {
      "cell_type": "code",
      "metadata": {
        "id": "zvYlXQ4s_SOF",
        "colab": {
          "base_uri": "https://localhost:8080/",
          "height": 974
        },
        "outputId": "a4d0a175-3cf2-4e38-ea9b-a1b78da607a8"
      },
      "source": [
        "%%time\n",
        "\n",
        "history = defaultdict(list)\n",
        "best_accuracy = 0\n",
        "output_dir = './model_save/'\n",
        "\n",
        "if not os.path.exists(output_dir):\n",
        "    os.makedirs(output_dir)\n",
        "\n",
        "for epoch in range(EPOCHS):\n",
        "\n",
        "  print(f'Epoch {epoch + 1}/{EPOCHS}')\n",
        "  print('-' * 10)\n",
        "\n",
        "  train_acc, train_loss = train_epoch(\n",
        "    model,\n",
        "    train_data_loader,\n",
        "    loss_fn,\n",
        "    optimizer,\n",
        "    device,\n",
        "    scheduler,\n",
        "    len(df_train)\n",
        "  )\n",
        "\n",
        "  print(f'Train loss {train_loss} accuracy {train_acc}')\n",
        "\n",
        "  val_acc, val_loss = eval_model(\n",
        "    model,\n",
        "    val_data_loader,\n",
        "    loss_fn,\n",
        "    device,\n",
        "    len(df_val)\n",
        "  )\n",
        "\n",
        "  print(f'Val   loss {val_loss} accuracy {val_acc}')\n",
        "  print()\n",
        "\n",
        "  history['train_acc'].append(train_acc)\n",
        "  history['train_loss'].append(train_loss)\n",
        "  history['val_acc'].append(val_acc)\n",
        "  history['val_loss'].append(val_loss)\n",
        "\n",
        "  if val_acc > best_accuracy:\n",
        "    torch.save(model.state_dict(), output_dir+'best_model_state.bin')\n",
        "    best_accuracy = val_acc"
      ],
      "execution_count": null,
      "outputs": [
        {
          "output_type": "stream",
          "text": [
            "Epoch 1/11\n",
            "----------\n",
            "Train loss 0.802019011411402 accuracy 0.6445850132072849\n",
            "Val   loss 0.7530330467224121 accuracy 0.6695869837296621\n",
            "\n",
            "Epoch 2/11\n",
            "----------\n",
            "Train loss 0.542651154200236 accuracy 0.7897261226192132\n",
            "Val   loss 0.7377863144874572 accuracy 0.7409261576971214\n",
            "\n",
            "Epoch 3/11\n",
            "----------\n",
            "Train loss 0.3476926612522867 accuracy 0.8778673710551925\n",
            "Val   loss 0.8804289108514786 accuracy 0.7571964956195244\n",
            "\n",
            "Epoch 4/11\n",
            "----------\n",
            "Train loss 0.24517897091805935 accuracy 0.9233977478103712\n",
            "Val   loss 1.047400754094124 accuracy 0.7772215269086358\n",
            "\n",
            "Epoch 5/11\n",
            "----------\n",
            "Train loss 0.19659363114171557 accuracy 0.9432781871263729\n",
            "Val   loss 1.1504965579509736 accuracy 0.7897371714643304\n",
            "\n",
            "Epoch 6/11\n",
            "----------\n",
            "Train loss 0.15842842075973748 accuracy 0.955720839705269\n",
            "Val   loss 1.114929234981537 accuracy 0.7934918648310388\n",
            "\n",
            "Epoch 7/11\n",
            "----------\n",
            "Train loss 0.1252917564701703 accuracy 0.9653830112609482\n",
            "Val   loss 1.2261902955174446 accuracy 0.8060075093867335\n",
            "\n",
            "Epoch 8/11\n",
            "----------\n",
            "Train loss 0.1015217359446817 accuracy 0.972056165716669\n",
            "Val   loss 1.3179187291860581 accuracy 0.7897371714643304\n",
            "\n",
            "Epoch 9/11\n",
            "----------\n",
            "Train loss 0.08046119759066238 accuracy 0.9769220075072987\n",
            "Val   loss 1.3778703665733338 accuracy 0.7972465581977473\n",
            "\n",
            "Epoch 10/11\n",
            "----------\n",
            "Train loss 0.06860007588234213 accuracy 0.9804671208119005\n",
            "Val   loss 1.4147138071060181 accuracy 0.7972465581977473\n",
            "\n",
            "Epoch 11/11\n",
            "----------\n",
            "Train loss 0.06028638788395458 accuracy 0.9810232170165438\n",
            "Val   loss 1.4451019245386123 accuracy 0.7959949937421777\n",
            "\n",
            "CPU times: user 31min 45s, sys: 14min 59s, total: 46min 44s\n",
            "Wall time: 47min 2s\n"
          ],
          "name": "stdout"
        }
      ]
    },
    {
      "cell_type": "markdown",
      "metadata": {
        "id": "Bm7_qXPw_qmh"
      },
      "source": [
        "Mostramos el resultados de nuestro entrenamiento"
      ]
    },
    {
      "cell_type": "code",
      "metadata": {
        "id": "c2j1TFmM_aQG",
        "colab": {
          "base_uri": "https://localhost:8080/",
          "height": 525
        },
        "outputId": "8e9ac248-09ed-4be0-cf3b-a62982718bae"
      },
      "source": [
        "plt.plot(history['train_acc'], label='Precisición de entrenamiento')\n",
        "plt.plot(history['val_acc'], label='Precesición de validación')\n",
        "\n",
        "plt.title('Historial de Entrenamiento')\n",
        "plt.ylabel('Precisión')\n",
        "plt.xlabel('Época')\n",
        "plt.legend()\n",
        "plt.ylim([0, 1]);"
      ],
      "execution_count": null,
      "outputs": [
        {
          "output_type": "display_data",
          "data": {
            "image/png": "[encoded data removed]",
            "text/plain": [
              "<Figure size 864x576 with 1 Axes>"
            ]
          },
          "metadata": {
            "tags": []
          }
        }
      ]
    },
    {
      "cell_type": "markdown",
      "metadata": {
        "id": "sBtRQJhTBUsg"
      },
      "source": [
        "Evaluamos nuestro modelo entrenado"
      ]
    },
    {
      "cell_type": "code",
      "metadata": {
        "id": "TujtwBT-A_cA",
        "colab": {
          "base_uri": "https://localhost:8080/",
          "height": 34
        },
        "outputId": "0ff584c2-fe44-446d-913b-825b612afe9f"
      },
      "source": [
        "test_acc, _ = eval_model(\n",
        "  model,\n",
        "  test_data_loader,\n",
        "  loss_fn,\n",
        "  device,\n",
        "  len(df_test)\n",
        ")\n",
        "\n",
        "test_acc.item()"
      ],
      "execution_count": null,
      "outputs": [
        {
          "output_type": "execute_result",
          "data": {
            "text/plain": [
              "0.8075"
            ]
          },
          "metadata": {
            "tags": []
          },
          "execution_count": 101
        }
      ]
    },
    {
      "cell_type": "markdown",
      "metadata": {
        "id": "zMPH0kEvBi-A"
      },
      "source": [
        "Creamos una funcion que nos ayude para predecir nuestro modelo"
      ]
    },
    {
      "cell_type": "code",
      "metadata": {
        "id": "6vKkekywBpAH"
      },
      "source": [
        "def get_predictions(model, data_loader):\n",
        "  model = model.eval()\n",
        "\n",
        "  review_texts = []\n",
        "  predictions = []\n",
        "  prediction_probs = []\n",
        "  real_values = []\n",
        "\n",
        "  with torch.no_grad():\n",
        "    for d in data_loader:\n",
        "\n",
        "      texts = d[\"review_text\"]\n",
        "      input_ids = d[\"input_ids\"].to(device)\n",
        "      attention_mask = d[\"attention_mask\"].to(device)\n",
        "      targets = d[\"targets\"].to(device)\n",
        "\n",
        "      outputs = model(\n",
        "        input_ids=input_ids,\n",
        "        attention_mask=attention_mask\n",
        "      )\n",
        "      _, preds = torch.max(outputs, dim=1)\n",
        "\n",
        "      probs = F.softmax(outputs, dim=1)\n",
        "\n",
        "      review_texts.extend(texts)\n",
        "      predictions.extend(preds)\n",
        "      prediction_probs.extend(probs)\n",
        "      real_values.extend(targets)\n",
        "\n",
        "  predictions = torch.stack(predictions).cpu()\n",
        "  prediction_probs = torch.stack(prediction_probs).cpu()\n",
        "  real_values = torch.stack(real_values).cpu()\n",
        "  return review_texts, predictions, prediction_probs, real_values"
      ],
      "execution_count": null,
      "outputs": []
    },
    {
      "cell_type": "code",
      "metadata": {
        "id": "g8KN39RCBv9A",
        "colab": {
          "base_uri": "https://localhost:8080/",
          "height": 874
        },
        "outputId": "62947104-735f-4979-a152-7827a1cd18e4"
      },
      "source": [
        "y_review_texts, y_pred, y_pred_probs, y_test = get_predictions(\n",
        "  model,\n",
        "  test_data_loader\n",
        ")\n",
        "print(y_test)\n",
        "print(y_pred_probs)\n",
        "print(classification_report(y_test, y_pred, target_names=class_names))"
      ],
      "execution_count": null,
      "outputs": [
        {
          "output_type": "stream",
          "text": [
            "tensor([2, 0, 0, 1, 1, 2, 2, 0, 2, 1, 1, 2, 2, 2, 2, 2, 0, 0, 0, 0, 0, 2, 0, 1,\n",
            "        2, 0, 0, 1, 0, 0, 1, 0, 2, 2, 0, 2, 1, 1, 1, 2, 0, 2, 2, 2, 0, 2, 2, 1,\n",
            "        1, 2, 1, 0, 0, 0, 0, 2, 1, 2, 1, 0, 2, 1, 0, 0, 2, 2, 0, 2, 2, 2, 1, 0,\n",
            "        2, 2, 2, 2, 1, 0, 2, 2, 2, 1, 0, 1, 1, 1, 2, 1, 1, 0, 0, 1, 0, 0, 1, 2,\n",
            "        2, 1, 0, 2, 2, 0, 2, 2, 1, 2, 1, 0, 0, 2, 2, 2, 0, 1, 0, 2, 2, 0, 0, 2,\n",
            "        0, 0, 1, 1, 2, 1, 1, 0, 0, 2, 0, 2, 0, 2, 2, 1, 2, 1, 1, 1, 1, 1, 0, 0,\n",
            "        2, 0, 2, 2, 0, 0, 1, 1, 0, 2, 2, 1, 1, 0, 0, 0, 2, 0, 0, 0, 2, 0, 2, 2,\n",
            "        0, 0, 2, 2, 0, 2, 2, 0, 1, 2, 0, 2, 0, 0, 1, 2, 0, 2, 1, 0, 2, 1, 2, 1,\n",
            "        2, 2, 0, 0, 0, 2, 0, 2, 2, 1, 0, 0, 2, 2, 1, 1, 0, 1, 2, 2, 1, 0, 1, 1,\n",
            "        2, 0, 1, 0, 2, 2, 2, 1, 1, 1, 0, 1, 1, 0, 0, 2, 0, 1, 2, 2, 2, 2, 0, 0,\n",
            "        0, 2, 0, 0, 0, 0, 0, 2, 0, 2, 0, 0, 2, 0, 2, 2, 0, 1, 0, 2, 1, 2, 0, 1,\n",
            "        0, 0, 0, 1, 1, 0, 2, 0, 1, 2, 2, 0, 2, 1, 2, 1, 2, 2, 2, 2, 1, 2, 2, 1,\n",
            "        0, 1, 0, 2, 1, 0, 2, 1, 2, 2, 0, 2, 1, 2, 2, 0, 0, 1, 2, 1, 2, 2, 2, 0,\n",
            "        1, 0, 2, 1, 2, 0, 1, 2, 0, 2, 0, 2, 1, 2, 2, 0, 0, 0, 1, 1, 0, 1, 2, 2,\n",
            "        2, 2, 2, 0, 0, 1, 1, 1, 1, 0, 2, 2, 0, 0, 2, 2, 2, 1, 2, 1, 0, 2, 2, 0,\n",
            "        0, 2, 0, 1, 0, 2, 1, 1, 2, 0, 1, 1, 1, 1, 0, 2, 1, 1, 2, 2, 0, 0, 1, 2,\n",
            "        0, 2, 2, 0, 1, 1, 1, 0, 2, 2, 2, 0, 2, 0, 1, 2, 0, 1, 1, 0, 1, 0, 1, 2,\n",
            "        0, 1, 1, 0, 0, 2, 0, 0, 2, 0, 0, 1, 2, 0, 1, 2, 2, 1, 2, 1, 1, 0, 1, 1,\n",
            "        0, 2, 1, 2, 2, 1, 0, 0, 0, 1, 2, 0, 2, 2, 0, 0, 0, 0, 2, 2, 0, 2, 1, 1,\n",
            "        1, 1, 2, 2, 1, 2, 1, 1, 2, 0, 0, 1, 1, 2, 2, 0, 2, 0, 0, 0, 2, 1, 2, 2,\n",
            "        0, 0, 1, 0, 1, 1, 0, 0, 0, 2, 0, 2, 0, 0, 0, 1, 0, 2, 0, 1, 2, 0, 1, 0,\n",
            "        0, 2, 2, 1, 0, 0, 2, 1, 0, 2, 2, 2, 0, 2, 0, 2, 2, 2, 0, 2, 2, 1, 1, 0,\n",
            "        1, 1, 2, 2, 1, 0, 0, 1, 1, 0, 1, 0, 0, 2, 0, 2, 0, 1, 1, 0, 2, 1, 1, 1,\n",
            "        1, 1, 2, 2, 2, 2, 1, 0, 2, 1, 2, 1, 0, 2, 1, 1, 0, 1, 0, 2, 1, 1, 1, 0,\n",
            "        0, 2, 0, 2, 2, 2, 2, 0, 2, 2, 0, 1, 1, 2, 2, 1, 0, 1, 1, 1, 0, 1, 0, 0,\n",
            "        1, 2, 1, 0, 1, 0, 0, 1, 0, 0, 2, 2, 0, 2, 0, 1, 2, 1, 0, 1, 2, 0, 2, 0,\n",
            "        2, 2, 2, 2, 2, 2, 2, 1, 2, 0, 2, 2, 0, 2, 2, 2, 1, 2, 2, 0, 1, 1, 1, 2,\n",
            "        2, 2, 1, 2, 1, 0, 1, 2, 0, 2, 1, 2, 1, 1, 1, 2, 1, 2, 2, 1, 1, 1, 0, 2,\n",
            "        2, 1, 1, 1, 0, 2, 1, 2, 1, 2, 1, 2, 1, 0, 0, 2, 2, 2, 0, 0, 2, 0, 0, 2,\n",
            "        0, 1, 0, 1, 0, 2, 2, 2, 2, 0, 0, 0, 0, 0, 2, 1, 0, 2, 0, 2, 0, 0, 2, 2,\n",
            "        2, 0, 0, 0, 1, 1, 2, 0, 1, 0, 0, 2, 0, 2, 1, 1, 2, 0, 2, 2, 2, 0, 1, 2,\n",
            "        2, 0, 0, 1, 1, 0, 0, 1, 0, 1, 0, 2, 0, 1, 1, 2, 2, 0, 2, 1, 0, 0, 1, 2,\n",
            "        2, 2, 2, 2, 1, 1, 1, 2, 2, 1, 0, 0, 2, 0, 0, 0, 0, 0, 2, 2, 1, 0, 0, 2,\n",
            "        2, 0, 2, 2, 0, 1, 2, 0])\n",
            "tensor([[5.9153e-05, 6.1300e-05, 9.9988e-01],\n",
            "        [4.4026e-05, 1.1492e-04, 9.9984e-01],\n",
            "        [9.9987e-01, 7.2983e-05, 6.0786e-05],\n",
            "        ...,\n",
            "        [5.1363e-05, 9.9987e-01, 7.9079e-05],\n",
            "        [1.7478e-02, 8.1537e-02, 9.0099e-01],\n",
            "        [9.9989e-01, 5.7219e-05, 5.0183e-05]])\n",
            "              precision    recall  f1-score   support\n",
            "\n",
            "    Negativo       0.86      0.85      0.85       274\n",
            "     Neutral       0.73      0.75      0.74       224\n",
            "    Positivo       0.82      0.81      0.82       302\n",
            "\n",
            "    accuracy                           0.81       800\n",
            "   macro avg       0.80      0.80      0.80       800\n",
            "weighted avg       0.81      0.81      0.81       800\n",
            "\n"
          ],
          "name": "stdout"
        }
      ]
    },
    {
      "cell_type": "markdown",
      "metadata": {
        "id": "sA0l9hJDB8GZ"
      },
      "source": [
        "Creamos una funcion para mostrar la matriz de confusion"
      ]
    },
    {
      "cell_type": "code",
      "metadata": {
        "id": "W7Yk82hoB4fy",
        "colab": {
          "base_uri": "https://localhost:8080/",
          "height": 534
        },
        "outputId": "50c56378-a960-4067-f49a-ede92eb7e2c7"
      },
      "source": [
        "def show_confusion_matrix(confusion_matrix):\n",
        "  hmap = sns.heatmap(confusion_matrix, annot=True, fmt=\"d\", cmap=\"Blues\")\n",
        "  hmap.yaxis.set_ticklabels(hmap.yaxis.get_ticklabels(), rotation=0, ha='right')\n",
        "  hmap.xaxis.set_ticklabels(hmap.xaxis.get_ticklabels(), rotation=30, ha='right')\n",
        "  plt.ylabel('Sentimiento verdadero')\n",
        "  plt.xlabel('Sentimiento Predecido');\n",
        "\n",
        "cm = confusion_matrix(y_test, y_pred)\n",
        "df_cm = pd.DataFrame(cm, index=class_names, columns=class_names)\n",
        "show_confusion_matrix(df_cm)"
      ],
      "execution_count": null,
      "outputs": [
        {
          "output_type": "display_data",
          "data": {
            "image/png": "[encoded data removed]",
            "text/plain": [
              "<Figure size 864x576 with 2 Axes>"
            ]
          },
          "metadata": {
            "tags": []
          }
        }
      ]
    },
    {
      "cell_type": "code",
      "metadata": {
        "id": "G1JmrextCRRN"
      },
      "source": [
        "idx = 2\n",
        "\n",
        "review_text = y_review_texts[idx]\n",
        "true_sentiment = y_test[idx]\n",
        "pred_df = pd.DataFrame({\n",
        "  'class_names': class_names,\n",
        "  'values': y_pred_probs[idx]\n",
        "})"
      ],
      "execution_count": null,
      "outputs": []
    },
    {
      "cell_type": "code",
      "metadata": {
        "id": "QIFsGu7eCS4s",
        "colab": {
          "base_uri": "https://localhost:8080/",
          "height": 187
        },
        "outputId": "40d3797a-49cd-47b1-ed10-ab408c58634f"
      },
      "source": [
        "print(\"\\n\".join(wrap(review_text)))\n",
        "print()\n",
        "print(f'True sentiment: {class_names[true_sentiment]}')"
      ],
      "execution_count": null,
      "outputs": [
        {
          "output_type": "stream",
          "text": [
            "Cuando comenze con brainly fueron hace 2 años y me funcionaba bien las\n",
            "respuestas coherentes y precisas pero cuando lo volvi a usarlo yo\n",
            "quería preguntar mi duda y cuando me dieron la respuesta era inútil no\n",
            "tenía ningún sentido \"solo contestan para ganar puntos y suban de\n",
            "rango\" revise el perfil del usuario que me contesto mi duda y me di\n",
            "con la sorpresa de que todas sus respuestas eran iguales y me enoje y\n",
            "quiero que le quiten la cuenta a Pandaarmy21 y a otros usuarios que\n",
            "hacen lo mismo.\n",
            "\n",
            "True sentiment: negative\n"
          ],
          "name": "stdout"
        }
      ]
    },
    {
      "cell_type": "markdown",
      "metadata": {
        "id": "KNpKTEPhDHOI"
      },
      "source": [
        "haremos una funcion para facilitar\n"
      ]
    },
    {
      "cell_type": "code",
      "metadata": {
        "id": "MBzoXVJ4C0Xd"
      },
      "source": [
        "review_text = \"deben mejorar no me permite guardar\""
      ],
      "execution_count": null,
      "outputs": []
    },
    {
      "cell_type": "code",
      "metadata": {
        "id": "ktnTJLzDDD3D"
      },
      "source": [
        "encoded_review = tokenizer.encode_plus(\n",
        "  review_text,\n",
        "  max_length=MAX_LEN,\n",
        "  add_special_tokens=True,\n",
        "  return_token_type_ids=False,\n",
        "  pad_to_max_length=True,\n",
        "  return_attention_mask=True,\n",
        "  return_tensors='pt',\n",
        ")"
      ],
      "execution_count": null,
      "outputs": []
    },
    {
      "cell_type": "code",
      "metadata": {
        "id": "cGWmlH1_DOra",
        "colab": {
          "base_uri": "https://localhost:8080/",
          "height": 51
        },
        "outputId": "987d0ea9-1ee0-4a51-8343-5410e5e5d9ff"
      },
      "source": [
        "input_ids = encoded_review['input_ids'].to(device)\n",
        "attention_mask = encoded_review['attention_mask'].to(device)\n",
        "\n",
        "output = model(input_ids, attention_mask)\n",
        "_, prediction = torch.max(output, dim=1)\n",
        "\n",
        "print(f'Review text: {review_text}')\n",
        "print(f'Sentiment  : {class_names[prediction]}')"
      ],
      "execution_count": null,
      "outputs": [
        {
          "output_type": "stream",
          "text": [
            "Review text: deben mejorar no me permite guardar\n",
            "Sentiment  : negative\n"
          ],
          "name": "stdout"
        }
      ]
    },
    {
      "cell_type": "markdown",
      "metadata": {
        "id": "eyXJT9k7DoFX"
      },
      "source": [
        "Guardamos nuestro modelo"
      ]
    },
    {
      "cell_type": "code",
      "metadata": {
        "id": "lfZyAcqODndd"
      },
      "source": [
        "from google.colab import drive\n"
      ],
      "execution_count": null,
      "outputs": []
    },
    {
      "cell_type": "markdown",
      "metadata": {
        "id": "v2OXnIjArt5J"
      },
      "source": [
        "Verificamos si nuestro modelo se guardo"
      ]
    },
    {
      "cell_type": "code",
      "metadata": {
        "id": "psNOhZGtimoT",
        "colab": {
          "base_uri": "https://localhost:8080/",
          "height": 34
        },
        "outputId": "ff737be8-2a5b-4370-e8e0-3d45569db1ce"
      },
      "source": [
        "#%cd /root/model_save/drive/\n",
        "%ls\n"
      ],
      "execution_count": null,
      "outputs": [
        {
          "output_type": "stream",
          "text": [
            "best_model_state.bin\n"
          ],
          "name": "stdout"
        }
      ]
    },
    {
      "cell_type": "code",
      "metadata": {
        "id": "Br0HaL5yFD3O",
        "colab": {
          "base_uri": "https://localhost:8080/",
          "height": 34
        },
        "outputId": "26e5b3fd-2017-413c-ad69-6deaf56718a3"
      },
      "source": [
        "#Guardamos el Tokenize\n",
        "tokenizer.save_pretrained(output_dir)\n"
      ],
      "execution_count": null,
      "outputs": [
        {
          "output_type": "stream",
          "text": [
            "Saving directory (./model_save/) should be a directory\n"
          ],
          "name": "stderr"
        }
      ]
    },
    {
      "cell_type": "code",
      "metadata": {
        "id": "ZBdeYCAeMlIP",
        "colab": {
          "base_uri": "https://localhost:8080/",
          "height": 34
        },
        "outputId": "4cd466c7-7782-4195-f649-acaa8c727c33"
      },
      "source": [
        "from google.colab import drive\n",
        "drive.mount('/content/gdrive')\n",
        "\n",
        "#!cp -r /root/model_save/best_model_state.bin \"./drive/My drive/Colab Notebooks\"\n"
      ],
      "execution_count": null,
      "outputs": [
        {
          "output_type": "stream",
          "text": [
            "Drive already mounted at /content/gdrive; to attempt to forcibly remount, call drive.mount(\"/content/gdrive\", force_remount=True).\n"
          ],
          "name": "stdout"
        }
      ]
    },
    {
      "cell_type": "code",
      "metadata": {
        "id": "ZhGqmPs8wieg"
      },
      "source": [
        "!cp -r /root/model_save/best_model_state.bin \"/content/gdrive/My Drive/Colab Notebooks\""
      ],
      "execution_count": null,
      "outputs": []
    },
    {
      "cell_type": "markdown",
      "metadata": {
        "id": "f9ES_gX6fUiD"
      },
      "source": [
        "CARGAMOS NUESTRO MODELO ENTRENADO"
      ]
    },
    {
      "cell_type": "code",
      "metadata": {
        "id": "tX7OPeZDe4T6",
        "colab": {
          "base_uri": "https://localhost:8080/",
          "height": 85
        },
        "outputId": "78a83179-d68a-41dd-a47e-a0deec0880c8"
      },
      "source": [
        "!gdown --id 1nEP1pkj3kMLHg-OwIluSHfgsDEXkqmdO\n"
      ],
      "execution_count": null,
      "outputs": [
        {
          "output_type": "stream",
          "text": [
            "Downloading...\n",
            "From: https://drive.google.com/uc?id=1nEP1pkj3kMLHg-OwIluSHfgsDEXkqmdO\n",
            "To: /root/model_save/drive/best_model_state.bin\n",
            "439MB [00:02, 193MB/s]\n"
          ],
          "name": "stdout"
        }
      ]
    },
    {
      "cell_type": "code",
      "metadata": {
        "id": "CyDpXXNnfwa9"
      },
      "source": [
        "model = SentimentClassifier(len(class_names))\n",
        "model.load_state_dict(torch.load('best_model_state.bin'))\n",
        "model = model.to(device)\n"
      ],
      "execution_count": null,
      "outputs": []
    },
    {
      "cell_type": "code",
      "metadata": {
        "id": "kBvBVPLYjTkf",
        "colab": {
          "base_uri": "https://localhost:8080/",
          "height": 1000
        },
        "outputId": "2371b0ad-b9b7-4a94-d941-748c10b1b337"
      },
      "source": [
        "test_data_loader = create_data_loader(df_test, tokenizer, MAX_LEN, BATCH_SIZE)\n",
        "\n",
        "\n",
        "y_review_texts, y_pred, y_pred_probs, y_test = get_predictions(\n",
        "  model,\n",
        "  test_data_loader\n",
        ")\n",
        "print(y_test)\n",
        "print(y_pred_probs)\n",
        "\n",
        "print(classification_report(y_test, y_pred, target_names=class_names))"
      ],
      "execution_count": null,
      "outputs": [
        {
          "output_type": "stream",
          "text": [
            "tensor([0, 0, 2, 0, 1, 1, 1, 2, 2, 0, 2, 0, 2, 1, 1, 0, 2, 1, 2, 1, 2, 0, 0, 1,\n",
            "        0, 0, 1, 2, 1, 0, 1, 2, 1, 1, 0, 2, 0, 2, 0, 1, 2, 2, 1, 0, 1, 0, 2, 1,\n",
            "        2, 1, 2, 0, 1, 2, 2, 0, 1, 1, 1, 2, 2, 2, 1, 1, 0, 1, 1, 1, 1, 2, 1, 1,\n",
            "        2, 1, 0, 1, 0, 2, 1, 0, 0, 1, 2, 1, 0, 2, 2, 2, 0, 1, 0, 2, 2, 1, 0, 0,\n",
            "        2, 0, 1, 0, 1, 1, 0, 1, 2, 2, 2, 2, 2, 0, 2, 0, 1, 2, 0, 0, 2, 0, 0, 0])\n",
            "tensor([[9.9958e-01, 1.9918e-04, 2.2337e-04],\n",
            "        [9.9229e-01, 4.8571e-03, 2.8523e-03],\n",
            "        [1.3134e-03, 1.0103e-03, 9.9768e-01],\n",
            "        [9.6280e-01, 1.1847e-02, 2.5357e-02],\n",
            "        [4.6364e-04, 9.9883e-01, 7.0224e-04],\n",
            "        [4.0012e-04, 9.9862e-01, 9.7823e-04],\n",
            "        [4.1607e-04, 9.9929e-01, 2.9123e-04],\n",
            "        [7.0574e-04, 9.9808e-01, 1.2142e-03],\n",
            "        [7.8669e-04, 1.5907e-03, 9.9762e-01],\n",
            "        [9.9844e-01, 6.0735e-04, 9.5532e-04],\n",
            "        [6.5907e-03, 5.2910e-01, 4.6430e-01],\n",
            "        [9.9944e-01, 2.6159e-04, 2.9825e-04],\n",
            "        [9.9762e-01, 1.9149e-03, 4.6485e-04],\n",
            "        [3.0072e-04, 9.9811e-01, 1.5870e-03],\n",
            "        [9.6433e-01, 2.7878e-02, 7.7955e-03],\n",
            "        [9.9924e-01, 3.6866e-04, 3.8708e-04],\n",
            "        [4.3622e-04, 1.1389e-03, 9.9842e-01],\n",
            "        [2.2486e-03, 9.0820e-01, 8.9550e-02],\n",
            "        [8.8878e-04, 1.0113e-03, 9.9810e-01],\n",
            "        [6.3523e-04, 1.3112e-03, 9.9805e-01],\n",
            "        [1.2430e-03, 9.1088e-04, 9.9785e-01],\n",
            "        [9.4028e-01, 2.1436e-02, 3.8287e-02],\n",
            "        [9.9952e-01, 2.1172e-04, 2.6947e-04],\n",
            "        [3.2443e-04, 9.9894e-01, 7.3488e-04],\n",
            "        [9.9951e-01, 2.5410e-04, 2.3738e-04],\n",
            "        [9.9924e-01, 4.8446e-04, 2.7556e-04],\n",
            "        [2.4246e-04, 9.9917e-01, 5.8380e-04],\n",
            "        [3.8498e-04, 3.5125e-03, 9.9610e-01],\n",
            "        [5.8166e-04, 9.9906e-01, 3.5742e-04],\n",
            "        [9.9945e-01, 2.6421e-04, 2.8422e-04],\n",
            "        [3.7740e-04, 9.9902e-01, 6.0376e-04],\n",
            "        [9.7173e-03, 4.6052e-02, 9.4423e-01],\n",
            "        [1.9995e-04, 9.9922e-01, 5.7520e-04],\n",
            "        [2.8627e-04, 9.9853e-01, 1.1880e-03],\n",
            "        [3.3919e-01, 2.9296e-01, 3.6785e-01],\n",
            "        [4.3925e-04, 1.1089e-03, 9.9845e-01],\n",
            "        [7.5617e-03, 7.4526e-03, 9.8499e-01],\n",
            "        [3.8194e-04, 2.2558e-03, 9.9736e-01],\n",
            "        [9.9940e-01, 3.2344e-04, 2.7225e-04],\n",
            "        [6.3523e-04, 1.3112e-03, 9.9805e-01],\n",
            "        [7.5912e-04, 1.8095e-02, 9.8115e-01],\n",
            "        [7.3569e-04, 1.1548e-03, 9.9811e-01],\n",
            "        [2.5818e-04, 9.9867e-01, 1.0690e-03],\n",
            "        [9.5330e-01, 4.4932e-02, 1.7643e-03],\n",
            "        [2.4661e-04, 9.9787e-01, 1.8787e-03],\n",
            "        [9.9943e-01, 2.1152e-04, 3.5378e-04],\n",
            "        [3.3002e-04, 4.2509e-03, 9.9542e-01],\n",
            "        [5.0306e-04, 9.9895e-01, 5.4720e-04],\n",
            "        [4.5414e-04, 1.1457e-03, 9.9840e-01],\n",
            "        [3.0950e-04, 9.9935e-01, 3.4136e-04],\n",
            "        [7.4191e-04, 7.7576e-04, 9.9848e-01],\n",
            "        [9.9946e-01, 3.0144e-04, 2.3719e-04],\n",
            "        [3.4012e-04, 9.9916e-01, 4.9892e-04],\n",
            "        [4.3905e-03, 8.6779e-02, 9.0883e-01],\n",
            "        [3.7598e-04, 1.3787e-03, 9.9825e-01],\n",
            "        [9.9956e-01, 1.6748e-04, 2.7184e-04],\n",
            "        [3.8088e-04, 9.9822e-01, 1.4037e-03],\n",
            "        [2.8149e-04, 9.9882e-01, 8.9477e-04],\n",
            "        [5.6491e-04, 9.9905e-01, 3.8931e-04],\n",
            "        [5.1702e-04, 8.7497e-04, 9.9861e-01],\n",
            "        [5.7937e-04, 1.0557e-03, 9.9836e-01],\n",
            "        [1.7728e-03, 2.0053e-03, 9.9622e-01],\n",
            "        [8.2546e-01, 6.0596e-02, 1.1394e-01],\n",
            "        [2.8024e-04, 9.9919e-01, 5.2858e-04],\n",
            "        [5.0159e-02, 9.3996e-01, 9.8768e-03],\n",
            "        [9.6433e-01, 2.7878e-02, 7.7955e-03],\n",
            "        [2.0480e-03, 3.4202e-02, 9.6375e-01],\n",
            "        [7.2916e-04, 9.9892e-01, 3.5229e-04],\n",
            "        [9.0514e-03, 2.3959e-03, 9.8855e-01],\n",
            "        [4.8692e-04, 9.9716e-01, 2.3568e-03],\n",
            "        [2.2877e-04, 9.9923e-01, 5.4525e-04],\n",
            "        [3.0758e-04, 9.9910e-01, 5.8991e-04],\n",
            "        [8.2205e-04, 9.5398e-04, 9.9822e-01],\n",
            "        [3.4510e-04, 9.9917e-01, 4.8117e-04],\n",
            "        [9.9957e-01, 2.0895e-04, 2.2273e-04],\n",
            "        [4.5517e-04, 9.9906e-01, 4.8645e-04],\n",
            "        [2.6842e-01, 3.1002e-01, 4.2156e-01],\n",
            "        [9.9937e-01, 3.2580e-04, 3.0800e-04],\n",
            "        [8.7300e-01, 5.7350e-02, 6.9653e-02],\n",
            "        [9.9955e-01, 2.3159e-04, 2.2275e-04],\n",
            "        [4.6419e-02, 9.4294e-01, 1.0638e-02],\n",
            "        [3.9594e-04, 9.9907e-01, 5.3619e-04],\n",
            "        [4.0444e-04, 1.4685e-03, 9.9813e-01],\n",
            "        [3.0566e-04, 9.9898e-01, 7.1056e-04],\n",
            "        [9.9953e-01, 2.5415e-04, 2.1833e-04],\n",
            "        [8.6096e-03, 2.2396e-01, 7.6743e-01],\n",
            "        [3.9424e-02, 2.8875e-01, 6.7182e-01],\n",
            "        [8.1156e-04, 5.0039e-02, 9.4915e-01],\n",
            "        [9.9701e-01, 2.2183e-03, 7.6717e-04],\n",
            "        [2.8483e-04, 9.9915e-01, 5.6576e-04],\n",
            "        [5.0285e-02, 9.4736e-01, 2.3504e-03],\n",
            "        [1.0151e-03, 6.0871e-03, 9.9290e-01],\n",
            "        [1.7477e-03, 5.8981e-03, 9.9235e-01],\n",
            "        [1.5800e-03, 9.9746e-01, 9.6110e-04],\n",
            "        [9.9942e-01, 2.5570e-04, 3.2243e-04],\n",
            "        [9.9958e-01, 1.7299e-04, 2.4890e-04],\n",
            "        [4.1738e-04, 1.1131e-03, 9.9847e-01],\n",
            "        [8.5201e-04, 9.3372e-04, 9.9821e-01],\n",
            "        [3.5553e-04, 9.9919e-01, 4.5550e-04],\n",
            "        [9.9953e-01, 2.1191e-04, 2.5763e-04],\n",
            "        [6.5870e-04, 9.9712e-01, 2.2263e-03],\n",
            "        [3.7428e-04, 9.9908e-01, 5.4761e-04],\n",
            "        [5.8671e-01, 4.0966e-01, 3.6354e-03],\n",
            "        [4.1353e-04, 9.9619e-01, 3.3986e-03],\n",
            "        [3.9424e-02, 2.8875e-01, 6.7182e-01],\n",
            "        [8.9210e-02, 2.5225e-01, 6.5854e-01],\n",
            "        [4.4784e-04, 1.1505e-03, 9.9840e-01],\n",
            "        [9.4648e-04, 1.5510e-03, 9.9750e-01],\n",
            "        [1.6895e-02, 7.2450e-02, 9.1065e-01],\n",
            "        [6.0877e-03, 7.7073e-01, 2.2318e-01],\n",
            "        [3.6635e-04, 2.7588e-03, 9.9687e-01],\n",
            "        [9.9954e-01, 1.8628e-04, 2.7381e-04],\n",
            "        [2.6555e-04, 9.9898e-01, 7.5298e-04],\n",
            "        [1.4395e-02, 1.0219e-01, 8.8341e-01],\n",
            "        [9.9956e-01, 1.8856e-04, 2.5535e-04],\n",
            "        [9.9952e-01, 2.3274e-04, 2.4717e-04],\n",
            "        [5.5417e-04, 1.1873e-03, 9.9826e-01],\n",
            "        [9.9949e-01, 2.7788e-04, 2.3551e-04],\n",
            "        [9.9957e-01, 1.7600e-04, 2.5845e-04],\n",
            "        [9.9959e-01, 1.7482e-04, 2.3788e-04]])\n",
            "              precision    recall  f1-score   support\n",
            "\n",
            "    negative       0.83      0.79      0.81        38\n",
            "     neutral       0.83      0.81      0.82        42\n",
            "    positive       0.81      0.88      0.84        40\n",
            "\n",
            "    accuracy                           0.82       120\n",
            "   macro avg       0.83      0.82      0.82       120\n",
            "weighted avg       0.83      0.82      0.82       120\n",
            "\n"
          ],
          "name": "stdout"
        }
      ]
    },
    {
      "cell_type": "code",
      "metadata": {
        "id": "Vbsr5qkiT_Dc"
      },
      "source": [],
      "execution_count": null,
      "outputs": []
    }
  ]
}